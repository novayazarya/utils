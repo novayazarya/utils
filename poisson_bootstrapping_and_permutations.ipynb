{
 "cells": [
  {
   "cell_type": "markdown",
   "metadata": {},
   "source": [
    "# Bootstrapping and Permutations\n",
    "\n",
    "## Possible tests\n",
    "\n",
    "* Bootstrapping effect sizes: *Given a treatment group A and control group B, what is the effect of the treatment on an outcome Y?*\n",
    "* Permutation test: *Given a treatment group A and control group B, can we reject H0 that the two distributions of X are identical?*\n",
    "\n",
    "## Bootstrapping effect sizes\n",
    "\n",
    "Estimate the % change in the average between groups.\n",
    "\n",
    "Given an input table with three fields, (id, groupid, value), and a number of bootstrap samples (nbootstraps), return a (nbootstraps length) vector of bootstrapped effect size estimates.\n",
    "\n",
    "### Part 1: Generate fake data"
   ]
  },
  {
   "cell_type": "code",
   "execution_count": 1,
   "metadata": {},
   "outputs": [],
   "source": [
    "import numpy as np\n",
    "import pandas as pd\n",
    "import matplotlib.pyplot as plt\n",
    "from scipy.stats import expon\n",
    "import seaborn as sns\n",
    "sns.set()"
   ]
  },
  {
   "cell_type": "code",
   "execution_count": 2,
   "metadata": {},
   "outputs": [],
   "source": [
    "#sample size for each group\n",
    "n1 = 100000\n",
    "n2 = 10000\n",
    "n = n1 + n2"
   ]
  },
  {
   "cell_type": "code",
   "execution_count": 25,
   "metadata": {},
   "outputs": [],
   "source": [
    "# make fake data\n",
    "# note: group2 should be 5 pp greater than group1 (2.1 vs 2.0)\n",
    "input_data = pd.DataFrame(\n",
    "    {'groupid': np.concatenate((np.repeat('g1', n1),\n",
    "                                np.repeat('g2', n2))),\n",
    "     'x': np.concatenate((expon.rvs(scale=.21, size=n1),\n",
    "                          expon.rvs(scale=.20, size=n2)))}, index = range(1, n+1)\n",
    ")"
   ]
  },
  {
   "cell_type": "code",
   "execution_count": 280,
   "metadata": {},
   "outputs": [
    {
     "data": {
      "text/html": [
       "<div>\n",
       "<style scoped>\n",
       "    .dataframe tbody tr th:only-of-type {\n",
       "        vertical-align: middle;\n",
       "    }\n",
       "\n",
       "    .dataframe tbody tr th {\n",
       "        vertical-align: top;\n",
       "    }\n",
       "\n",
       "    .dataframe thead th {\n",
       "        text-align: right;\n",
       "    }\n",
       "</style>\n",
       "<table border=\"1\" class=\"dataframe\">\n",
       "  <thead>\n",
       "    <tr style=\"text-align: right;\">\n",
       "      <th></th>\n",
       "      <th>groupid</th>\n",
       "      <th>x</th>\n",
       "    </tr>\n",
       "  </thead>\n",
       "  <tbody>\n",
       "    <tr>\n",
       "      <th>1</th>\n",
       "      <td>g1</td>\n",
       "      <td>0.036281</td>\n",
       "    </tr>\n",
       "    <tr>\n",
       "      <th>2</th>\n",
       "      <td>g1</td>\n",
       "      <td>0.149043</td>\n",
       "    </tr>\n",
       "    <tr>\n",
       "      <th>3</th>\n",
       "      <td>g1</td>\n",
       "      <td>0.008034</td>\n",
       "    </tr>\n",
       "    <tr>\n",
       "      <th>4</th>\n",
       "      <td>g1</td>\n",
       "      <td>0.001034</td>\n",
       "    </tr>\n",
       "    <tr>\n",
       "      <th>5</th>\n",
       "      <td>g1</td>\n",
       "      <td>0.292064</td>\n",
       "    </tr>\n",
       "  </tbody>\n",
       "</table>\n",
       "</div>"
      ],
      "text/plain": [
       "  groupid         x\n",
       "1      g1  0.036281\n",
       "2      g1  0.149043\n",
       "3      g1  0.008034\n",
       "4      g1  0.001034\n",
       "5      g1  0.292064"
      ]
     },
     "execution_count": 280,
     "metadata": {},
     "output_type": "execute_result"
    }
   ],
   "source": [
    "input_data.head()"
   ]
  },
  {
   "cell_type": "code",
   "execution_count": 26,
   "metadata": {},
   "outputs": [],
   "source": [
    "# split into two groups\n",
    "g1 = input_data['groupid'] == 'g1'\n",
    "g2 = input_data['groupid'] == 'g2'"
   ]
  },
  {
   "cell_type": "code",
   "execution_count": 27,
   "metadata": {},
   "outputs": [],
   "source": [
    "# actual sample means\n",
    "m1 = input_data.loc[g1, 'x'].mean()\n",
    "m2 = input_data.loc[g2, 'x'].mean()"
   ]
  },
  {
   "cell_type": "code",
   "execution_count": 283,
   "metadata": {},
   "outputs": [
    {
     "data": {
      "image/png": "[encoded data removed]",
      "text/plain": [
       "<Figure size 720x432 with 1 Axes>"
      ]
     },
     "metadata": {},
     "output_type": "display_data"
    }
   ],
   "source": [
    "# plot the raw data\n",
    "fig, ax = plt.subplots(figsize=(10,6))\n",
    "ax.hist(x=input_data.loc[g1, 'x'], color=(0,0,1,.5), bins=50, density=True, alpha=0.5)\n",
    "ax.hist(x=input_data.loc[g2, 'x'], color=(1,0,0,.5), bins=50, density=True, alpha=0.5)\n",
    "ax.set_xlim((0, input_data['x'].max()))\n",
    "#annotate the means\n",
    "ax.axvline(input_data.loc[g1, 'x'].mean(), color=\"blue\", linewidth=0.8)\n",
    "ax.axvline(input_data.loc[g2, 'x'].mean(), color=\"red\", linewidth=0.8);"
   ]
  },
  {
   "cell_type": "markdown",
   "metadata": {},
   "source": [
    "### Part 2: Generate bootstrapped samples\n",
    "\n",
    "For each data point i, draw `nbootstraps = 800` draws from a Poisson distribution with expectation 1"
   ]
  },
  {
   "cell_type": "code",
   "execution_count": 274,
   "metadata": {},
   "outputs": [],
   "source": [
    "nbootstraps = 800\n",
    "#draw bootstrapped samples\n",
    "samplecounts = np.random.poisson(1, size=nbootstraps*n)"
   ]
  },
  {
   "cell_type": "code",
   "execution_count": 275,
   "metadata": {},
   "outputs": [],
   "source": [
    "samplecounts = samplecounts.reshape((n,-1))"
   ]
  },
  {
   "cell_type": "markdown",
   "metadata": {},
   "source": [
    "For example, the first data point gets assigned this many times in each of the 800 samples:"
   ]
  },
  {
   "cell_type": "code",
   "execution_count": 101,
   "metadata": {},
   "outputs": [
    {
     "data": {
      "text/plain": [
       "array([1, 0, 1, 1, 1, 0, 1, 0, 2, 1, 1, 4, 0, 0, 0, 2, 1, 1, 2, 0, 2, 1,\n",
       "       2, 3, 0, 0, 3, 0, 2, 1, 0, 1, 0, 1, 2, 2, 1, 1, 0, 0, 0, 2, 0, 0,\n",
       "       0, 2, 0, 2, 1, 1, 0, 0, 1, 0, 3, 1, 0, 2, 2, 2, 0, 0, 0, 2, 1, 0,\n",
       "       2, 2, 2, 1, 0, 2, 0, 0, 1, 1, 1, 2, 1, 1, 0, 1, 0, 0, 2, 2, 0, 0,\n",
       "       1, 1, 1, 2, 0, 0, 3, 1, 0, 0, 1, 0, 2, 1, 1, 0, 0, 3, 1, 1, 0, 2,\n",
       "       1, 0, 0, 5, 1, 1, 1, 1, 1, 1, 0, 1, 3, 2, 1, 3, 0, 0, 0, 1, 0, 4,\n",
       "       0, 2, 0, 1, 1, 3, 1, 1, 1, 0, 1, 1, 3, 1, 2, 0, 4, 0, 0, 1, 1, 2,\n",
       "       0, 1, 1, 1, 1, 0, 0, 1, 2, 0, 0, 1, 2, 1, 1, 2, 1, 0, 1, 0, 2, 1,\n",
       "       0, 0, 2, 0, 0, 2, 3, 1, 2, 1, 3, 2, 0, 0, 1, 1, 2, 2, 3, 1, 1, 0,\n",
       "       0, 1, 0, 3, 0, 0, 2, 1, 0, 1, 0, 1, 0, 1, 1, 0, 0, 1, 2, 2, 0, 2,\n",
       "       0, 1, 2, 0, 0, 1, 0, 0, 2, 2, 0, 0, 2, 0, 2, 2, 1, 1, 0, 1, 1, 1,\n",
       "       0, 0, 1, 2, 1, 1, 1, 1, 0, 1, 1, 1, 1, 2, 1, 0, 1, 1, 0, 1, 1, 0,\n",
       "       2, 2, 1, 4, 1, 1, 0, 1, 2, 2, 2, 1, 1, 1, 4, 1, 1, 0, 1, 2, 0, 1,\n",
       "       0, 0, 2, 1, 1, 1, 0, 2, 2, 2, 0, 1, 1, 2, 1, 0, 0, 1, 1, 5, 2, 1,\n",
       "       1, 1, 2, 5, 1, 0, 0, 4, 2, 1, 1, 0, 0, 2, 0, 2, 0, 0, 0, 1, 1, 0,\n",
       "       1, 0, 1, 1, 1, 0, 3, 0, 0, 1, 5, 1, 1, 0, 0, 1, 2, 1, 1, 1, 2, 2,\n",
       "       0, 1, 1, 0, 2, 2, 1, 2, 0, 0, 1, 1, 1, 0, 1, 1, 4, 2, 0, 4, 2, 3,\n",
       "       0, 0, 0, 1, 2, 0, 1, 0, 0, 0, 2, 3, 2, 0, 0, 2, 4, 1, 0, 1, 1, 0,\n",
       "       0, 2, 0, 2, 0, 0, 0, 1, 0, 0, 0, 2, 1, 1, 0, 0, 2, 0, 0, 1, 0, 1,\n",
       "       1, 0, 1, 1, 2, 0, 1, 2, 2, 1, 1, 1, 0, 1, 2, 1, 1, 4, 1, 0, 1, 0,\n",
       "       1, 1, 2, 0, 2, 0, 0, 0, 0, 0, 3, 0, 0, 0, 2, 0, 1, 1, 1, 1, 1, 4,\n",
       "       1, 0, 1, 2, 0, 0, 0, 2, 0, 5, 1, 2, 0, 3, 1, 3, 1, 0, 0, 0, 2, 0,\n",
       "       0, 0, 1, 0, 1, 1, 1, 1, 2, 2, 3, 1, 1, 1, 3, 0, 5, 0, 1, 2, 0, 0,\n",
       "       1, 0, 0, 1, 2, 4, 3, 0, 1, 1, 1, 0, 2, 1, 0, 2, 4, 3, 0, 1, 1, 1,\n",
       "       0, 0, 0, 1, 3, 1, 0, 0, 3, 0, 1, 0, 1, 1, 1, 2, 0, 1, 0, 0, 2, 0,\n",
       "       4, 1, 1, 0, 0, 0, 0, 1, 5, 0, 0, 0, 1, 1, 0, 1, 0, 2, 3, 1, 0, 0,\n",
       "       0, 2, 0, 2, 2, 0, 3, 1, 0, 1, 1, 0, 0, 1, 2, 2, 0, 2, 2, 1, 0, 1,\n",
       "       0, 0, 0, 0, 0, 0, 0, 1, 1, 2, 1, 0, 0, 1, 2, 1, 0, 0, 1, 0, 0, 1,\n",
       "       2, 1, 1, 4, 2, 4, 1, 0, 1, 0, 1, 1, 1, 1, 2, 2, 0, 1, 2, 1, 2, 1,\n",
       "       2, 0, 0, 0, 0, 1, 1, 2, 0, 0, 1, 1, 1, 0, 1, 0, 1, 0, 1, 1, 1, 2,\n",
       "       3, 3, 1, 0, 0, 1, 3, 2, 1, 1, 0, 1, 1, 2, 1, 0, 0, 2, 2, 2, 2, 2,\n",
       "       0, 0, 0, 0, 0, 1, 1, 1, 3, 0, 1, 1, 0, 1, 2, 1, 1, 0, 1, 1, 0, 1,\n",
       "       0, 0, 0, 0, 0, 2, 1, 1, 0, 0, 1, 0, 1, 1, 1, 0, 0, 2, 1, 0, 2, 1,\n",
       "       0, 0, 0, 0, 0, 1, 2, 1, 3, 1, 0, 0, 0, 1, 1, 1, 0, 2, 1, 0, 0, 0,\n",
       "       0, 0, 0, 1, 1, 0, 3, 0, 1, 0, 2, 1, 1, 1, 2, 2, 1, 2, 0, 0, 0, 2,\n",
       "       2, 1, 3, 0, 1, 0, 0, 0, 0, 1, 0, 1, 0, 2, 0, 2, 2, 2, 1, 1, 0, 1,\n",
       "       0, 0, 1, 1, 1, 0, 1, 0])"
      ]
     },
     "execution_count": 101,
     "metadata": {},
     "output_type": "execute_result"
    }
   ],
   "source": [
    "samplecounts[0,:]"
   ]
  },
  {
   "cell_type": "markdown",
   "metadata": {},
   "source": [
    "### Part 3: Write the function that does the parallelized computation\n",
    "Given a set of n data points (x) and a n x nbootstraps matrix of sample counts (counts), compute nbootstraps sample means:"
   ]
  },
  {
   "cell_type": "code",
   "execution_count": 28,
   "metadata": {},
   "outputs": [],
   "source": [
    "#computation function\n",
    "def group_bootstrapped_mean(x, counts):\n",
    "    # this works well if converted to an embarassingly parallel mapreduce job\n",
    "    # it also works well with super fast matrix multiplication, as below\n",
    "    n = len(x)\n",
    "    data_with_ones = np.concatenate((x[:, np.newaxis],\n",
    "                     np.ones(n)[:, np.newaxis]), axis=1) # two column matrix where each row is (x, 1)\n",
    "    reduced = data_with_ones.T @ counts # a 2 x nbootstraps matrix of sums and counts\n",
    "    return reduced[0] / reduced[1]"
   ]
  },
  {
   "cell_type": "markdown",
   "metadata": {},
   "source": [
    "### Part 4: Compute bootstrapped distribution of effect size\n",
    "Compute bootstrapped means per group."
   ]
  },
  {
   "cell_type": "code",
   "execution_count": 291,
   "metadata": {},
   "outputs": [],
   "source": [
    "#compute bootstrapped estimates for each group\n",
    "b1 = group_bootstrapped_mean(input_data.loc[g1,'x'], samplecounts[g1,:])\n",
    "b2 = group_bootstrapped_mean(input_data.loc[g2,'x'], samplecounts[g2,:])"
   ]
  },
  {
   "cell_type": "markdown",
   "metadata": {},
   "source": [
    "Although we don't need to show this, let's check the bootstrapped mean distributions:"
   ]
  },
  {
   "cell_type": "code",
   "execution_count": 302,
   "metadata": {},
   "outputs": [
    {
     "data": {
      "image/png": "[encoded data removed]",
      "text/plain": [
       "<Figure size 720x432 with 1 Axes>"
      ]
     },
     "metadata": {},
     "output_type": "display_data"
    }
   ],
   "source": [
    "#these are the bootstrapped values\n",
    "fig, ax = plt.subplots(figsize=(10,6))\n",
    "ax.hist(x=b1, color=(0,0,1,.5), bins=np.linspace(0.19,0.215,100), density=True, alpha=0.5)\n",
    "ax.hist(x=b2, color=(1,0,0,.5), bins=np.linspace(0.19,0.215,100), density=True, alpha=0.5);"
   ]
  },
  {
   "cell_type": "markdown",
   "metadata": {},
   "source": [
    "Finally, show the bootstrapped estimates of the % difference in means log(m1 / m2). "
   ]
  },
  {
   "cell_type": "code",
   "execution_count": 299,
   "metadata": {},
   "outputs": [
    {
     "data": {
      "image/png": "[encoded data removed]",
      "text/plain": [
       "<Figure size 720x432 with 1 Axes>"
      ]
     },
     "metadata": {},
     "output_type": "display_data"
    }
   ],
   "source": [
    "# log(b2/b1) is a vector containing the percent change in each bootstrap iteration\n",
    "# plot its histogram\n",
    "fig, ax = plt.subplots(figsize=(10,6))\n",
    "ax.hist(np.log(b2/b1), color='black', bins=100, density=True, alpha=0.5)\n",
    "ax.axvline(np.log(m2/m1), color=\"purple\")\n",
    "ax.set_title('bootstrapped % change');"
   ]
  },
  {
   "cell_type": "markdown",
   "metadata": {},
   "source": [
    "Alternatively, we could show the bootstrapped estimate of the actual difference in means (m1 - m2)"
   ]
  },
  {
   "cell_type": "markdown",
   "metadata": {},
   "source": [
    "## Permutation tests\n",
    "\n",
    "Test the H0 that the distributions are identical\n",
    "\n",
    "### Part 1: Generate fake data\n",
    "Identical to part 1 above: use the same data even!\n",
    "\n",
    "### Part 2: Generate bootstrapped samples\n",
    "For each data point i, draw nbootstrapped draws from a multinomial distribution with probabilities proportional to the group sizes"
   ]
  },
  {
   "cell_type": "code",
   "execution_count": 3,
   "metadata": {},
   "outputs": [],
   "source": [
    "from sklearn.utils import resample\n",
    "nbootstraps = 800"
   ]
  },
  {
   "cell_type": "code",
   "execution_count": 37,
   "metadata": {},
   "outputs": [],
   "source": [
    "# draw permuted samples: ideally should be sampling without replacement, but at scale, that's not feasible\n",
    "samplecounts = pd.Series(['b1', 'b2']).sample(nbootstraps*n, replace=True, weights=[n1,n2]).to_numpy()"
   ]
  },
  {
   "cell_type": "code",
   "execution_count": 38,
   "metadata": {},
   "outputs": [],
   "source": [
    "samplecounts = samplecounts.reshape((n,-1))"
   ]
  },
  {
   "cell_type": "markdown",
   "metadata": {},
   "source": [
    "For example, the first data point gets assigned to the following groups in each of 800 samples:"
   ]
  },
  {
   "cell_type": "code",
   "execution_count": 40,
   "metadata": {},
   "outputs": [
    {
     "data": {
      "text/plain": [
       "array(['b1', 'b1', 'b1', 'b1', 'b1', 'b1', 'b1', 'b1', 'b1', 'b2', 'b1',\n",
       "       'b2', 'b1', 'b1', 'b1', 'b2', 'b1', 'b1', 'b2', 'b1', 'b1', 'b1',\n",
       "       'b1', 'b1', 'b1', 'b1', 'b1', 'b1', 'b1', 'b1', 'b1', 'b1', 'b1',\n",
       "       'b1', 'b1', 'b1', 'b1', 'b1', 'b1', 'b1', 'b2', 'b1', 'b1', 'b1',\n",
       "       'b1', 'b1', 'b1', 'b1', 'b2', 'b1', 'b1', 'b1', 'b1', 'b1', 'b1',\n",
       "       'b1', 'b1', 'b1', 'b1', 'b1', 'b1', 'b1', 'b1', 'b1', 'b1', 'b1',\n",
       "       'b1', 'b1', 'b1', 'b1', 'b1', 'b1', 'b1', 'b1', 'b2', 'b1', 'b1',\n",
       "       'b1', 'b1', 'b2', 'b2', 'b2', 'b1', 'b2', 'b1', 'b1', 'b1', 'b1',\n",
       "       'b1', 'b1', 'b1', 'b1', 'b1', 'b1', 'b1', 'b1', 'b2', 'b1', 'b1',\n",
       "       'b1', 'b1', 'b1', 'b1', 'b1', 'b1', 'b2', 'b1', 'b1', 'b1', 'b1',\n",
       "       'b1', 'b1', 'b1', 'b1', 'b1', 'b1', 'b1', 'b1', 'b1', 'b1', 'b1',\n",
       "       'b1', 'b1', 'b1', 'b1', 'b1', 'b1', 'b1', 'b1', 'b1', 'b1', 'b1',\n",
       "       'b1', 'b1', 'b1', 'b1', 'b1', 'b1', 'b1', 'b2', 'b1', 'b1', 'b1',\n",
       "       'b1', 'b2', 'b1', 'b2', 'b2', 'b1', 'b1', 'b1', 'b2', 'b1', 'b1',\n",
       "       'b1', 'b1', 'b1', 'b1', 'b1', 'b1', 'b1', 'b1', 'b1', 'b1', 'b1',\n",
       "       'b1', 'b1', 'b1', 'b1', 'b1', 'b1', 'b1', 'b1', 'b1', 'b2', 'b1',\n",
       "       'b2', 'b1', 'b1', 'b2', 'b1', 'b2', 'b1', 'b1', 'b1', 'b1', 'b1',\n",
       "       'b1', 'b1', 'b1', 'b1', 'b1', 'b1', 'b1', 'b1', 'b1', 'b1', 'b1',\n",
       "       'b1', 'b1', 'b1', 'b2', 'b1', 'b1', 'b1', 'b1', 'b2', 'b1', 'b1',\n",
       "       'b2', 'b1', 'b1', 'b1', 'b1', 'b1', 'b1', 'b1', 'b1', 'b2', 'b1',\n",
       "       'b1', 'b1', 'b1', 'b1', 'b1', 'b2', 'b1', 'b1', 'b1', 'b1', 'b1',\n",
       "       'b1', 'b1', 'b1', 'b1', 'b1', 'b2', 'b1', 'b1', 'b1', 'b1', 'b1',\n",
       "       'b1', 'b1', 'b1', 'b2', 'b1', 'b1', 'b1', 'b1', 'b1', 'b1', 'b1',\n",
       "       'b1', 'b1', 'b1', 'b1', 'b1', 'b1', 'b1', 'b1', 'b1', 'b1', 'b1',\n",
       "       'b1', 'b1', 'b2', 'b2', 'b2', 'b1', 'b1', 'b1', 'b1', 'b1', 'b1',\n",
       "       'b1', 'b1', 'b1', 'b1', 'b1', 'b1', 'b1', 'b1', 'b1', 'b1', 'b1',\n",
       "       'b1', 'b2', 'b1', 'b2', 'b1', 'b1', 'b1', 'b1', 'b1', 'b1', 'b1',\n",
       "       'b2', 'b1', 'b1', 'b1', 'b1', 'b1', 'b1', 'b1', 'b1', 'b1', 'b1',\n",
       "       'b1', 'b1', 'b1', 'b1', 'b2', 'b1', 'b1', 'b1', 'b1', 'b1', 'b1',\n",
       "       'b1', 'b1', 'b2', 'b1', 'b1', 'b1', 'b2', 'b1', 'b1', 'b1', 'b2',\n",
       "       'b1', 'b1', 'b1', 'b1', 'b1', 'b1', 'b1', 'b1', 'b1', 'b1', 'b1',\n",
       "       'b1', 'b1', 'b2', 'b1', 'b1', 'b1', 'b1', 'b1', 'b1', 'b1', 'b1',\n",
       "       'b1', 'b1', 'b1', 'b1', 'b1', 'b1', 'b1', 'b1', 'b1', 'b2', 'b2',\n",
       "       'b1', 'b1', 'b1', 'b1', 'b1', 'b1', 'b1', 'b1', 'b1', 'b1', 'b1',\n",
       "       'b1', 'b1', 'b1', 'b1', 'b1', 'b1', 'b1', 'b1', 'b1', 'b1', 'b1',\n",
       "       'b1', 'b1', 'b1', 'b1', 'b1', 'b1', 'b2', 'b1', 'b1', 'b1', 'b1',\n",
       "       'b1', 'b1', 'b1', 'b1', 'b1', 'b1', 'b1', 'b1', 'b1', 'b1', 'b2',\n",
       "       'b1', 'b2', 'b1', 'b1', 'b1', 'b1', 'b1', 'b1', 'b1', 'b2', 'b1',\n",
       "       'b1', 'b2', 'b1', 'b1', 'b1', 'b1', 'b1', 'b1', 'b2', 'b1', 'b1',\n",
       "       'b1', 'b1', 'b1', 'b2', 'b1', 'b1', 'b1', 'b1', 'b1', 'b1', 'b1',\n",
       "       'b1', 'b1', 'b1', 'b1', 'b1', 'b1', 'b1', 'b1', 'b1', 'b1', 'b1',\n",
       "       'b1', 'b1', 'b1', 'b1', 'b1', 'b1', 'b1', 'b2', 'b1', 'b1', 'b1',\n",
       "       'b1', 'b1', 'b1', 'b1', 'b1', 'b1', 'b1', 'b1', 'b1', 'b1', 'b1',\n",
       "       'b1', 'b1', 'b1', 'b1', 'b1', 'b1', 'b1', 'b1', 'b1', 'b1', 'b1',\n",
       "       'b1', 'b1', 'b1', 'b1', 'b1', 'b1', 'b1', 'b2', 'b1', 'b1', 'b1',\n",
       "       'b1', 'b1', 'b1', 'b1', 'b1', 'b1', 'b1', 'b1', 'b1', 'b1', 'b1',\n",
       "       'b1', 'b1', 'b1', 'b1', 'b1', 'b1', 'b1', 'b1', 'b1', 'b1', 'b1',\n",
       "       'b1', 'b1', 'b1', 'b1', 'b2', 'b1', 'b1', 'b1', 'b1', 'b1', 'b1',\n",
       "       'b1', 'b1', 'b1', 'b1', 'b2', 'b2', 'b1', 'b1', 'b1', 'b1', 'b2',\n",
       "       'b1', 'b1', 'b1', 'b1', 'b1', 'b1', 'b1', 'b1', 'b1', 'b1', 'b1',\n",
       "       'b1', 'b1', 'b1', 'b1', 'b1', 'b1', 'b1', 'b1', 'b1', 'b2', 'b1',\n",
       "       'b2', 'b1', 'b1', 'b1', 'b1', 'b1', 'b1', 'b1', 'b1', 'b1', 'b1',\n",
       "       'b1', 'b1', 'b1', 'b1', 'b1', 'b1', 'b1', 'b1', 'b1', 'b1', 'b1',\n",
       "       'b1', 'b1', 'b1', 'b1', 'b1', 'b1', 'b1', 'b1', 'b1', 'b1', 'b1',\n",
       "       'b1', 'b1', 'b2', 'b1', 'b1', 'b1', 'b1', 'b1', 'b1', 'b2', 'b1',\n",
       "       'b1', 'b1', 'b2', 'b1', 'b1', 'b1', 'b1', 'b1', 'b1', 'b1', 'b1',\n",
       "       'b1', 'b1', 'b1', 'b1', 'b1', 'b2', 'b1', 'b2', 'b1', 'b1', 'b1',\n",
       "       'b2', 'b1', 'b1', 'b1', 'b1', 'b1', 'b1', 'b1', 'b1', 'b2', 'b1',\n",
       "       'b1', 'b1', 'b1', 'b1', 'b1', 'b1', 'b1', 'b1', 'b1', 'b1', 'b1',\n",
       "       'b1', 'b1', 'b1', 'b1', 'b1', 'b1', 'b1', 'b1', 'b1', 'b1', 'b1',\n",
       "       'b1', 'b1', 'b1', 'b1', 'b1', 'b1', 'b2', 'b1', 'b1', 'b1', 'b1',\n",
       "       'b1', 'b1', 'b1', 'b1', 'b1', 'b1', 'b1', 'b1', 'b1', 'b1', 'b1',\n",
       "       'b1', 'b2', 'b1', 'b1', 'b1', 'b1', 'b1', 'b1', 'b1', 'b1', 'b1',\n",
       "       'b1', 'b1', 'b1', 'b1', 'b1', 'b1', 'b1', 'b1', 'b1', 'b1', 'b1',\n",
       "       'b1', 'b1', 'b2', 'b1', 'b1', 'b1', 'b1', 'b1', 'b1', 'b1', 'b1',\n",
       "       'b1', 'b1', 'b1', 'b1', 'b1', 'b2', 'b1', 'b1', 'b1', 'b1', 'b1',\n",
       "       'b1', 'b1', 'b1', 'b1', 'b1', 'b1', 'b1', 'b1', 'b1', 'b1', 'b1',\n",
       "       'b1', 'b2', 'b1', 'b1', 'b1', 'b1', 'b1', 'b1', 'b1', 'b1', 'b1',\n",
       "       'b1', 'b1', 'b1', 'b1', 'b1', 'b1', 'b1', 'b1', 'b1', 'b2', 'b1',\n",
       "       'b2', 'b1', 'b1', 'b1', 'b1', 'b1', 'b1', 'b1', 'b1', 'b1', 'b1',\n",
       "       'b1', 'b1', 'b1', 'b1', 'b1', 'b1', 'b1', 'b1', 'b1', 'b1', 'b1',\n",
       "       'b1', 'b1', 'b1', 'b2', 'b1', 'b1', 'b1', 'b1', 'b1', 'b1', 'b1',\n",
       "       'b1', 'b1', 'b1', 'b1', 'b1', 'b1', 'b1', 'b1'], dtype=object)"
      ]
     },
     "execution_count": 40,
     "metadata": {},
     "output_type": "execute_result"
    }
   ],
   "source": [
    "samplecounts[0]"
   ]
  },
  {
   "cell_type": "markdown",
   "metadata": {},
   "source": [
    "### Part 3: Write the function that does the parallelized computation\n",
    "Identical function as part 3 above \n",
    "\n",
    "### Part 4: Compute distribution of the statistic under H0\n",
    "Compute permuted means per group."
   ]
  },
  {
   "cell_type": "code",
   "execution_count": 47,
   "metadata": {},
   "outputs": [],
   "source": [
    "# compute our statistic (diff in means)\n",
    "b1 = group_bootstrapped_mean(input_data['x'], (samplecounts=='b1').astype(np.int8))\n",
    "b2 = group_bootstrapped_mean(input_data['x'], (samplecounts=='b2').astype(np.int8))"
   ]
  },
  {
   "cell_type": "markdown",
   "metadata": {},
   "source": [
    "Although we don't need to show this, let's check the distribution of the permuted means:"
   ]
  },
  {
   "cell_type": "code",
   "execution_count": 54,
   "metadata": {},
   "outputs": [
    {
     "data": {
      "image/png": "[encoded data removed]",
      "text/plain": [
       "<Figure size 720x432 with 1 Axes>"
      ]
     },
     "metadata": {},
     "output_type": "display_data"
    }
   ],
   "source": [
    "# these are the permuted values under the null\n",
    "fig, ax = plt.subplots(figsize=(10,6))\n",
    "ax.hist(x=b1, color=(0,0,1,.5), bins=np.linspace(0.20,0.22,100), density=True, alpha=0.5)\n",
    "ax.hist(x=b2, color=(1,0,0,.5), bins=np.linspace(0.20,0.22,100), density=True, alpha=0.5)\n",
    "ax.set_xlabel('mean(x)');\n",
    "ax.set_title('permuted group means');"
   ]
  },
  {
   "cell_type": "markdown",
   "metadata": {},
   "source": [
    "Plot the distribution of the test statistic under the null, and the actual statistic (vertical line)"
   ]
  },
  {
   "cell_type": "code",
   "execution_count": 52,
   "metadata": {},
   "outputs": [
    {
     "data": {
      "image/png": "[encoded data removed]",
      "text/plain": [
       "<Figure size 720x432 with 1 Axes>"
      ]
     },
     "metadata": {},
     "output_type": "display_data"
    }
   ],
   "source": [
    "fig, ax = plt.subplots(figsize=(10,6))\n",
    "ax.hist(np.log(b2/b1), color='black', bins=100, density=True, alpha=0.5)\n",
    "ax.axvline(np.log(m2/m1), color=\"purple\")\n",
    "ax.set_title('% change under null (vs actual value)');"
   ]
  }
 ],
 "metadata": {
  "kernelspec": {
   "display_name": "Python 3",
   "language": "python",
   "name": "python3"
  },
  "language_info": {
   "codemirror_mode": {
    "name": "ipython",
    "version": 3
   },
   "file_extension": ".py",
   "mimetype": "text/x-python",
   "name": "python",
   "nbconvert_exporter": "python",
   "pygments_lexer": "ipython3",
   "version": "3.8.3"
  }
 },
 "nbformat": 4,
 "nbformat_minor": 4
}
