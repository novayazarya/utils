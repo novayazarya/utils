{
 "cells": [
  {
   "cell_type": "markdown",
   "metadata": {},
   "source": [
    "# Comparison of t-test, bootstrap, permutation test output results"
   ]
  },
  {
   "cell_type": "code",
   "execution_count": 5,
   "metadata": {},
   "outputs": [],
   "source": [
    "import pandas as pd\n",
    "import numpy as np\n",
    "from scipy import stats\n",
    "import bootstrapped.bootstrap as bs\n",
    "import bootstrapped.stats_functions as bs_stats\n",
    "import bootstrapped.compare_functions as bs_compare\n",
    "from mlxtend.evaluate import permutation_test"
   ]
  },
  {
   "cell_type": "code",
   "execution_count": 6,
   "metadata": {},
   "outputs": [],
   "source": [
    "import string\n",
    "import random\n",
    "\n",
    "def get_random_alnum_str(length):\n",
    "    letters_and_digits = string.ascii_letters + string.digits\n",
    "    result_str = ''.join((random.choice(letters_and_digits) for i in range(length)))\n",
    "    return result_str"
   ]
  },
  {
   "cell_type": "markdown",
   "metadata": {},
   "source": [
    "## Generate the test set by running a power analysis"
   ]
  },
  {
   "cell_type": "code",
   "execution_count": 60,
   "metadata": {},
   "outputs": [],
   "source": [
    "es = (100 - 105) / 40 # calculating an effect size M_1 - M_2 / SD_polled "
   ]
  },
  {
   "cell_type": "code",
   "execution_count": 61,
   "metadata": {},
   "outputs": [
    {
     "data": {
      "text/plain": [
       "1005.6154263659035"
      ]
     },
     "execution_count": 61,
     "metadata": {},
     "output_type": "execute_result"
    }
   ],
   "source": [
    "import statsmodels.stats.api as sms\n",
    "sms.TTestIndPower().solve_power(effect_size=es, power=0.8, nobs1=None, ratio=1, alpha=0.05)"
   ]
  },
  {
   "cell_type": "code",
   "execution_count": 8,
   "metadata": {},
   "outputs": [],
   "source": [
    "# Generate synthetic data\n",
    "def generate_data(n=1000, mean=100, delta=5, sd=40, iterations=1000):\n",
    "    norm1 = np.random.normal(loc=mean, scale=sd, size=n*iterations)\n",
    "    norm2 = np.random.normal(loc=mean+delta, scale=sd, size=n*iterations)\n",
    "    iter_list = [i//n + 1 for i in range(iterations*n)]\n",
    "    \n",
    "    norm1_df = pd.DataFrame({'subject_id': [get_random_alnum_str(16) for i in range(iterations*n)],\n",
    "                             'experiment_group': ['control' for i in range(iterations*n)],\n",
    "                             'metric': norm1,\n",
    "                             'iteration': iter_list})\n",
    "    norm2_df = pd.DataFrame({'subject_id': [get_random_alnum_str(16) for i in range(iterations*n)],\n",
    "                             'experiment_group': ['treatment' for i in range(iterations*n)],\n",
    "                             'metric': norm2,\n",
    "                             'iteration': iter_list})\n",
    "\n",
    "    combined_df = norm1_df.append(norm2_df)\n",
    "\n",
    "    return combined_df"
   ]
  },
  {
   "cell_type": "code",
   "execution_count": 9,
   "metadata": {},
   "outputs": [],
   "source": [
    "generated_data = generate_data(sd=31)"
   ]
  },
  {
   "cell_type": "code",
   "execution_count": 10,
   "metadata": {},
   "outputs": [
    {
     "data": {
      "text/html": [
       "<div>\n",
       "<style scoped>\n",
       "    .dataframe tbody tr th:only-of-type {\n",
       "        vertical-align: middle;\n",
       "    }\n",
       "\n",
       "    .dataframe tbody tr th {\n",
       "        vertical-align: top;\n",
       "    }\n",
       "\n",
       "    .dataframe thead th {\n",
       "        text-align: right;\n",
       "    }\n",
       "</style>\n",
       "<table border=\"1\" class=\"dataframe\">\n",
       "  <thead>\n",
       "    <tr style=\"text-align: right;\">\n",
       "      <th></th>\n",
       "      <th>subject_id</th>\n",
       "      <th>experiment_group</th>\n",
       "      <th>metric</th>\n",
       "      <th>iteration</th>\n",
       "    </tr>\n",
       "  </thead>\n",
       "  <tbody>\n",
       "    <tr>\n",
       "      <th>0</th>\n",
       "      <td>hVod7dLrM2e14Tzp</td>\n",
       "      <td>control</td>\n",
       "      <td>111.869974</td>\n",
       "      <td>1</td>\n",
       "    </tr>\n",
       "    <tr>\n",
       "      <th>1</th>\n",
       "      <td>c9ndKogyzXqNnVe8</td>\n",
       "      <td>control</td>\n",
       "      <td>87.889825</td>\n",
       "      <td>1</td>\n",
       "    </tr>\n",
       "    <tr>\n",
       "      <th>2</th>\n",
       "      <td>k0AP4VERjyXbaK51</td>\n",
       "      <td>control</td>\n",
       "      <td>119.615202</td>\n",
       "      <td>1</td>\n",
       "    </tr>\n",
       "    <tr>\n",
       "      <th>3</th>\n",
       "      <td>QiJerQ1siTVr0sCO</td>\n",
       "      <td>control</td>\n",
       "      <td>115.205353</td>\n",
       "      <td>1</td>\n",
       "    </tr>\n",
       "    <tr>\n",
       "      <th>4</th>\n",
       "      <td>n9qwbmbKdEyndHky</td>\n",
       "      <td>control</td>\n",
       "      <td>95.601374</td>\n",
       "      <td>1</td>\n",
       "    </tr>\n",
       "    <tr>\n",
       "      <th>...</th>\n",
       "      <td>...</td>\n",
       "      <td>...</td>\n",
       "      <td>...</td>\n",
       "      <td>...</td>\n",
       "    </tr>\n",
       "    <tr>\n",
       "      <th>999995</th>\n",
       "      <td>WtMrl9SMN0WOOViK</td>\n",
       "      <td>treatment</td>\n",
       "      <td>111.018555</td>\n",
       "      <td>1000</td>\n",
       "    </tr>\n",
       "    <tr>\n",
       "      <th>999996</th>\n",
       "      <td>5K4sheERYTiwpHzZ</td>\n",
       "      <td>treatment</td>\n",
       "      <td>132.520019</td>\n",
       "      <td>1000</td>\n",
       "    </tr>\n",
       "    <tr>\n",
       "      <th>999997</th>\n",
       "      <td>Gb2eQiixHUzpexMj</td>\n",
       "      <td>treatment</td>\n",
       "      <td>89.845103</td>\n",
       "      <td>1000</td>\n",
       "    </tr>\n",
       "    <tr>\n",
       "      <th>999998</th>\n",
       "      <td>MroHNFCoXJx4VIWg</td>\n",
       "      <td>treatment</td>\n",
       "      <td>100.116606</td>\n",
       "      <td>1000</td>\n",
       "    </tr>\n",
       "    <tr>\n",
       "      <th>999999</th>\n",
       "      <td>zh9t8QT0gveDdw3u</td>\n",
       "      <td>treatment</td>\n",
       "      <td>142.602155</td>\n",
       "      <td>1000</td>\n",
       "    </tr>\n",
       "  </tbody>\n",
       "</table>\n",
       "<p>2000000 rows × 4 columns</p>\n",
       "</div>"
      ],
      "text/plain": [
       "              subject_id experiment_group      metric  iteration\n",
       "0       hVod7dLrM2e14Tzp          control  111.869974          1\n",
       "1       c9ndKogyzXqNnVe8          control   87.889825          1\n",
       "2       k0AP4VERjyXbaK51          control  119.615202          1\n",
       "3       QiJerQ1siTVr0sCO          control  115.205353          1\n",
       "4       n9qwbmbKdEyndHky          control   95.601374          1\n",
       "...                  ...              ...         ...        ...\n",
       "999995  WtMrl9SMN0WOOViK        treatment  111.018555       1000\n",
       "999996  5K4sheERYTiwpHzZ        treatment  132.520019       1000\n",
       "999997  Gb2eQiixHUzpexMj        treatment   89.845103       1000\n",
       "999998  MroHNFCoXJx4VIWg        treatment  100.116606       1000\n",
       "999999  zh9t8QT0gveDdw3u        treatment  142.602155       1000\n",
       "\n",
       "[2000000 rows x 4 columns]"
      ]
     },
     "execution_count": 10,
     "metadata": {},
     "output_type": "execute_result"
    }
   ],
   "source": [
    "generated_data"
   ]
  },
  {
   "cell_type": "code",
   "execution_count": 95,
   "metadata": {},
   "outputs": [
    {
     "data": {
      "image/png": "[encoded data removed]",
      "text/plain": [
       "<Figure size 432x288 with 1 Axes>"
      ]
     },
     "metadata": {
      "needs_background": "light"
     },
     "output_type": "display_data"
    }
   ],
   "source": [
    "it = np.random.randint(1,1000)\n",
    "generated_data.query(\"experiment_group == 'control' & iteration == @it\")['metric'].hist(bins=30, alpha=.5)\n",
    "generated_data.query(\"experiment_group == 'treatment' & iteration == @it\")['metric'].hist(bins=30, alpha=.5);"
   ]
  },
  {
   "cell_type": "code",
   "execution_count": 34,
   "metadata": {},
   "outputs": [],
   "source": [
    "def run_tests(data):\n",
    "    iterations = data.iteration.unique()\n",
    "    t_pvalues = np.zeros(iterations.shape)\n",
    "    b_lowers = np.zeros(iterations.shape)\n",
    "    b_uppers = np.zeros(iterations.shape)\n",
    "    perm_pvalues = np.zeros(iterations.shape)\n",
    "\n",
    "    for i in iterations:\n",
    "        control = data.loc[(data['experiment_group'] == 'control') & (data['iteration'] == i), 'metric']\n",
    "        treatment = data.loc[(data['experiment_group'] == 'treatment') & (data['iteration'] == i), 'metric']\n",
    "        # run t-test\n",
    "        _, t_pvalue = stats.ttest_ind(treatment, control, equal_var=False)\n",
    "        t_pvalues[i-1] = t_pvalue\n",
    "\n",
    "        # run bootstrap\n",
    "        b = bs.bootstrap_ab(treatment.to_numpy(),\n",
    "                            control.to_numpy(),\n",
    "                            bs_stats.mean,\n",
    "                            bs_compare.percent_change, # (test_stat - ctrl_stat) / ctrl_stat * 100\n",
    "                            num_iterations=1000)\n",
    "        b_lowers[i-1] = b.lower_bound\n",
    "        b_uppers[i-1] = b.upper_bound\n",
    "\n",
    "        # run permutation test\n",
    "        perm_pvalue = permutation_test(treatment.to_numpy(), control.to_numpy(),\n",
    "                                       method='approximate', num_rounds=1000, seed=0)\n",
    "        perm_pvalues[i-1] = perm_pvalue\n",
    "\n",
    "    results = pd.DataFrame({'iteration': iterations,\n",
    "                            't_test_p_value': t_pvalues,\n",
    "                            'bootstrap_lower': b_lowers,\n",
    "                            'bootstrap_upper': b_uppers,\n",
    "                            'perm_test_p_value': perm_pvalues\n",
    "                           })\n",
    "    results['t_test_sig'] = (results.t_test_p_value < 0.05).astype('int')\n",
    "    results['bootstrap_sig'] = (results.bootstrap_lower > 0).astype('int')\n",
    "    results['perm_test_sig'] = (results.perm_test_p_value < 0.05).astype('int')\n",
    "\n",
    "    return results"
   ]
  },
  {
   "cell_type": "code",
   "execution_count": 35,
   "metadata": {},
   "outputs": [],
   "source": [
    "results_df = run_tests(generated_data)"
   ]
  },
  {
   "cell_type": "code",
   "execution_count": 36,
   "metadata": {},
   "outputs": [
    {
     "data": {
      "text/html": [
       "<div>\n",
       "<style scoped>\n",
       "    .dataframe tbody tr th:only-of-type {\n",
       "        vertical-align: middle;\n",
       "    }\n",
       "\n",
       "    .dataframe tbody tr th {\n",
       "        vertical-align: top;\n",
       "    }\n",
       "\n",
       "    .dataframe thead th {\n",
       "        text-align: right;\n",
       "    }\n",
       "</style>\n",
       "<table border=\"1\" class=\"dataframe\">\n",
       "  <thead>\n",
       "    <tr style=\"text-align: right;\">\n",
       "      <th></th>\n",
       "      <th>iteration</th>\n",
       "      <th>t_test_p_value</th>\n",
       "      <th>bootstrap_lower</th>\n",
       "      <th>bootstrap_upper</th>\n",
       "      <th>perm_test_p_value</th>\n",
       "      <th>t_test_sig</th>\n",
       "      <th>bootstrap_sig</th>\n",
       "      <th>perm_test_sig</th>\n",
       "    </tr>\n",
       "  </thead>\n",
       "  <tbody>\n",
       "    <tr>\n",
       "      <th>0</th>\n",
       "      <td>1</td>\n",
       "      <td>0.000266</td>\n",
       "      <td>2.267958</td>\n",
       "      <td>8.064992</td>\n",
       "      <td>0.001998</td>\n",
       "      <td>1</td>\n",
       "      <td>1</td>\n",
       "      <td>1</td>\n",
       "    </tr>\n",
       "    <tr>\n",
       "      <th>1</th>\n",
       "      <td>2</td>\n",
       "      <td>0.000002</td>\n",
       "      <td>3.682873</td>\n",
       "      <td>9.390375</td>\n",
       "      <td>0.000999</td>\n",
       "      <td>1</td>\n",
       "      <td>1</td>\n",
       "      <td>1</td>\n",
       "    </tr>\n",
       "    <tr>\n",
       "      <th>2</th>\n",
       "      <td>3</td>\n",
       "      <td>0.000092</td>\n",
       "      <td>2.631692</td>\n",
       "      <td>8.207522</td>\n",
       "      <td>0.000999</td>\n",
       "      <td>1</td>\n",
       "      <td>1</td>\n",
       "      <td>1</td>\n",
       "    </tr>\n",
       "    <tr>\n",
       "      <th>3</th>\n",
       "      <td>4</td>\n",
       "      <td>0.024011</td>\n",
       "      <td>0.307010</td>\n",
       "      <td>6.074444</td>\n",
       "      <td>0.014985</td>\n",
       "      <td>1</td>\n",
       "      <td>1</td>\n",
       "      <td>1</td>\n",
       "    </tr>\n",
       "    <tr>\n",
       "      <th>4</th>\n",
       "      <td>5</td>\n",
       "      <td>0.000951</td>\n",
       "      <td>1.747378</td>\n",
       "      <td>7.135463</td>\n",
       "      <td>0.002997</td>\n",
       "      <td>1</td>\n",
       "      <td>1</td>\n",
       "      <td>1</td>\n",
       "    </tr>\n",
       "    <tr>\n",
       "      <th>...</th>\n",
       "      <td>...</td>\n",
       "      <td>...</td>\n",
       "      <td>...</td>\n",
       "      <td>...</td>\n",
       "      <td>...</td>\n",
       "      <td>...</td>\n",
       "      <td>...</td>\n",
       "      <td>...</td>\n",
       "    </tr>\n",
       "    <tr>\n",
       "      <th>995</th>\n",
       "      <td>996</td>\n",
       "      <td>0.008969</td>\n",
       "      <td>0.967068</td>\n",
       "      <td>6.356559</td>\n",
       "      <td>0.005994</td>\n",
       "      <td>1</td>\n",
       "      <td>1</td>\n",
       "      <td>1</td>\n",
       "    </tr>\n",
       "    <tr>\n",
       "      <th>996</th>\n",
       "      <td>997</td>\n",
       "      <td>0.000390</td>\n",
       "      <td>2.132653</td>\n",
       "      <td>7.474928</td>\n",
       "      <td>0.000999</td>\n",
       "      <td>1</td>\n",
       "      <td>1</td>\n",
       "      <td>1</td>\n",
       "    </tr>\n",
       "    <tr>\n",
       "      <th>997</th>\n",
       "      <td>998</td>\n",
       "      <td>0.000157</td>\n",
       "      <td>2.576882</td>\n",
       "      <td>8.166442</td>\n",
       "      <td>0.000999</td>\n",
       "      <td>1</td>\n",
       "      <td>1</td>\n",
       "      <td>1</td>\n",
       "    </tr>\n",
       "    <tr>\n",
       "      <th>998</th>\n",
       "      <td>999</td>\n",
       "      <td>0.000006</td>\n",
       "      <td>3.616302</td>\n",
       "      <td>9.406029</td>\n",
       "      <td>0.000999</td>\n",
       "      <td>1</td>\n",
       "      <td>1</td>\n",
       "      <td>1</td>\n",
       "    </tr>\n",
       "    <tr>\n",
       "      <th>999</th>\n",
       "      <td>1000</td>\n",
       "      <td>0.000734</td>\n",
       "      <td>1.754514</td>\n",
       "      <td>7.019778</td>\n",
       "      <td>0.001998</td>\n",
       "      <td>1</td>\n",
       "      <td>1</td>\n",
       "      <td>1</td>\n",
       "    </tr>\n",
       "  </tbody>\n",
       "</table>\n",
       "<p>1000 rows × 8 columns</p>\n",
       "</div>"
      ],
      "text/plain": [
       "     iteration  t_test_p_value  bootstrap_lower  bootstrap_upper  \\\n",
       "0            1        0.000266         2.267958         8.064992   \n",
       "1            2        0.000002         3.682873         9.390375   \n",
       "2            3        0.000092         2.631692         8.207522   \n",
       "3            4        0.024011         0.307010         6.074444   \n",
       "4            5        0.000951         1.747378         7.135463   \n",
       "..         ...             ...              ...              ...   \n",
       "995        996        0.008969         0.967068         6.356559   \n",
       "996        997        0.000390         2.132653         7.474928   \n",
       "997        998        0.000157         2.576882         8.166442   \n",
       "998        999        0.000006         3.616302         9.406029   \n",
       "999       1000        0.000734         1.754514         7.019778   \n",
       "\n",
       "     perm_test_p_value  t_test_sig  bootstrap_sig  perm_test_sig  \n",
       "0             0.001998           1              1              1  \n",
       "1             0.000999           1              1              1  \n",
       "2             0.000999           1              1              1  \n",
       "3             0.014985           1              1              1  \n",
       "4             0.002997           1              1              1  \n",
       "..                 ...         ...            ...            ...  \n",
       "995           0.005994           1              1              1  \n",
       "996           0.000999           1              1              1  \n",
       "997           0.000999           1              1              1  \n",
       "998           0.000999           1              1              1  \n",
       "999           0.001998           1              1              1  \n",
       "\n",
       "[1000 rows x 8 columns]"
      ]
     },
     "execution_count": 36,
     "metadata": {},
     "output_type": "execute_result"
    }
   ],
   "source": [
    "results_df"
   ]
  },
  {
   "cell_type": "code",
   "execution_count": 37,
   "metadata": {},
   "outputs": [
    {
     "data": {
      "text/plain": [
       "t_test_sig       0.960\n",
       "bootstrap_sig    0.951\n",
       "perm_test_sig    0.959\n",
       "dtype: float64"
      ]
     },
     "execution_count": 37,
     "metadata": {},
     "output_type": "execute_result"
    }
   ],
   "source": [
    "results_df[['t_test_sig', 'bootstrap_sig', 'perm_test_sig']].mean()"
   ]
  },
  {
   "cell_type": "code",
   "execution_count": 35,
   "metadata": {},
   "outputs": [],
   "source": [
    "generated_data.to_csv('~/Downloads/tests_python_data.csv', index=False)"
   ]
  }
 ],
 "metadata": {
  "kernelspec": {
   "display_name": "Python 3",
   "language": "python",
   "name": "python3"
  },
  "language_info": {
   "codemirror_mode": {
    "name": "ipython",
    "version": 3
   },
   "file_extension": ".py",
   "mimetype": "text/x-python",
   "name": "python",
   "nbconvert_exporter": "python",
   "pygments_lexer": "ipython3",
   "version": "3.8.3"
  }
 },
 "nbformat": 4,
 "nbformat_minor": 2
}
