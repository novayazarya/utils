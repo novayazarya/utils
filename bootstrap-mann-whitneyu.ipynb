{
 "cells": [
  {
   "cell_type": "markdown",
   "metadata": {
    "id": "_r-U03rZ1757"
   },
   "source": [
    "# Сравнение средних бутстрапированием и методом Манна-Уитни\n",
    "Сравнить средние между тестом и контролем методом бутстрап и с применением критерия Манна-Уитни"
   ]
  },
  {
   "cell_type": "code",
   "execution_count": 1,
   "metadata": {
    "id": "Nz2VEMB-175_"
   },
   "outputs": [],
   "source": [
    "import numpy as np\n",
    "import pandas as pd\n",
    "from tqdm import tqdm\n",
    "from scipy.stats import mannwhitneyu\n",
    "from scipy.stats import norm\n",
    "import matplotlib.pyplot as plt\n",
    "\n",
    "plt.style.use('ggplot')"
   ]
  },
  {
   "cell_type": "code",
   "execution_count": 5,
   "metadata": {
    "id": "MBp4fUgB176A"
   },
   "outputs": [],
   "source": [
    "df = pd.read_csv('https://stepik.org/media/attachments/lesson/389496/hw_bootstrap.csv',\n",
    "                sep=';', decimal=',', index_col=0)"
   ]
  },
  {
   "cell_type": "code",
   "execution_count": 7,
   "metadata": {
    "id": "a3Hd1crL176B"
   },
   "outputs": [],
   "source": [
    "treatment = df.query('experimentVariant == \"Treatment\"').value.reset_index(drop=True)\n",
    "control = df.query('experimentVariant == \"Control\"').value.reset_index(drop=True)"
   ]
  },
  {
   "cell_type": "markdown",
   "metadata": {
    "id": "yPWefKlN-rmW"
   },
   "source": [
    "Объявим функцию, которая позволит проверять гипотезы с помощью бутстрапа"
   ]
  },
  {
   "cell_type": "code",
   "execution_count": 18,
   "metadata": {
    "id": "0nOT2l_8176C"
   },
   "outputs": [],
   "source": [
    "def get_bootstrap(\n",
    "    data_column_1, # числовые значения первой выборки\n",
    "    data_column_2, # числовые значения второй выборки\n",
    "    boot=1000, # количество бутстрэп-подвыборок\n",
    "    statistic=np.mean, # интересующая нас статистика\n",
    "    alpha=0.05 # уровень значимости\n",
    "    ):\n",
    "    boot_len = max([len(data_column_1), len(data_column_2)])\n",
    "    boot_data = []\n",
    "    for i in tqdm(range(boot)): # извлекаем подвыборки\n",
    "        samples_1 = data_column_1.sample(boot_len, replace=True).values\n",
    "        # чтобы сохранить дисперсию, берем такой же размер выборки\n",
    "        samples_2 = data_column_2.sample(boot_len, replace=True).values\n",
    "        boot_data.append(statistic(samples_1 - samples_2)) \n",
    "    \n",
    "    df = pd.DataFrame(boot_data)\n",
    "        \n",
    "    left_quant = alpha / 2 # левый край доверительного интервала\n",
    "    right_quant = 1 - alpha / 2 # правый край доверительного интервала\n",
    "    quants = df.quantile([left_quant, right_quant])\n",
    "        \n",
    "    p_1 = norm.cdf(x=0, loc=np.mean(boot_data), scale=np.std(boot_data))\n",
    "    p_2 = norm.cdf(x=0, loc=-np.mean(boot_data), scale=np.std(boot_data))\n",
    "    p_value = min(p_1, p_2) * 2\n",
    "        \n",
    "    # Визуализация\n",
    "    _, _, bars = plt.hist(df[0], bins=50)\n",
    "    for bar in bars:\n",
    "        if abs(bar.get_x()) <= quants.iloc[0][0] or abs(bar.get_x()) >= quants.iloc[1][0]:\n",
    "            bar.set_facecolor('red')\n",
    "        else: \n",
    "            bar.set_facecolor('grey')\n",
    "            bar.set_edgecolor('black')\n",
    "    \n",
    "    plt.style.use('ggplot')\n",
    "    plt.vlines(quants, ymin=0, ymax=50, color='k', linestyle='--')\n",
    "    plt.xlabel('boot_data')\n",
    "    plt.ylabel('frequency')\n",
    "    plt.title(\"Histogram of boot_data\")\n",
    "    plt.show()\n",
    "       \n",
    "    return {\"boot_data\": boot_data, \n",
    "            \"quants\": quants, \n",
    "            \"p_value\": p_value}"
   ]
  },
  {
   "cell_type": "markdown",
   "metadata": {
    "id": "0QpnHCW3176E"
   },
   "source": [
    "#### Проверка гипотезы с применением бутстрапа"
   ]
  },
  {
   "cell_type": "code",
   "execution_count": 19,
   "metadata": {
    "colab": {
     "base_uri": "https://localhost:8080/",
     "height": 316
    },
    "id": "yB--0ur_176E",
    "outputId": "23660e3c-5758-4994-9a8c-99a70f4b014e"
   },
   "outputs": [
    {
     "name": "stderr",
     "output_type": "stream",
     "text": [
      "100%|██████████| 1000/1000 [00:00<00:00, 1935.23it/s]\n"
     ]
    },
    {
     "data": {
      "image/png": "[encoded data removed]",
      "text/plain": [
       "<Figure size 432x288 with 1 Axes>"
      ]
     },
     "metadata": {},
     "output_type": "display_data"
    }
   ],
   "source": [
    "booted_data = get_bootstrap(control, treatment) "
   ]
  },
  {
   "cell_type": "code",
   "execution_count": 10,
   "metadata": {
    "colab": {
     "base_uri": "https://localhost:8080/"
    },
    "id": "IRwsZ5_h176J",
    "outputId": "e99999e4-b7f3-4758-ab29-4f94fb2ec8f9"
   },
   "outputs": [
    {
     "data": {
      "text/plain": [
       "2.1613642918666625e-07"
      ]
     },
     "execution_count": 10,
     "metadata": {},
     "output_type": "execute_result"
    }
   ],
   "source": [
    "booted_data[\"p_value\"] "
   ]
  },
  {
   "cell_type": "code",
   "execution_count": 11,
   "metadata": {
    "colab": {
     "base_uri": "https://localhost:8080/",
     "height": 111
    },
    "id": "oigTi_hK176N",
    "outputId": "15659b2e-642a-4266-d197-361643aa0d81"
   },
   "outputs": [
    {
     "data": {
      "text/html": [
       "<div>\n",
       "<style scoped>\n",
       "    .dataframe tbody tr th:only-of-type {\n",
       "        vertical-align: middle;\n",
       "    }\n",
       "\n",
       "    .dataframe tbody tr th {\n",
       "        vertical-align: top;\n",
       "    }\n",
       "\n",
       "    .dataframe thead th {\n",
       "        text-align: right;\n",
       "    }\n",
       "</style>\n",
       "<table border=\"1\" class=\"dataframe\">\n",
       "  <thead>\n",
       "    <tr style=\"text-align: right;\">\n",
       "      <th></th>\n",
       "      <th>0</th>\n",
       "    </tr>\n",
       "  </thead>\n",
       "  <tbody>\n",
       "    <tr>\n",
       "      <th>0.025</th>\n",
       "      <td>-0.462082</td>\n",
       "    </tr>\n",
       "    <tr>\n",
       "      <th>0.975</th>\n",
       "      <td>-0.210996</td>\n",
       "    </tr>\n",
       "  </tbody>\n",
       "</table>\n",
       "</div>"
      ],
      "text/plain": [
       "              0\n",
       "0.025 -0.462082\n",
       "0.975 -0.210996"
      ]
     },
     "execution_count": 11,
     "metadata": {},
     "output_type": "execute_result"
    }
   ],
   "source": [
    "booted_data[\"quants\"] "
   ]
  },
  {
   "cell_type": "markdown",
   "metadata": {
    "id": "ufC9cCPo176O"
   },
   "source": [
    "#### Проверка гипотезы с применением критерия Манна-Уитни"
   ]
  },
  {
   "cell_type": "code",
   "execution_count": 12,
   "metadata": {
    "colab": {
     "base_uri": "https://localhost:8080/"
    },
    "id": "b2iop48S176O",
    "outputId": "6c31ba71-8bd2-42d5-f557-c8ca8ed262cd"
   },
   "outputs": [
    {
     "name": "stdout",
     "output_type": "stream",
     "text": [
      "Statistics=9508.000, p=0.003\n"
     ]
    }
   ],
   "source": [
    "stat, p = mannwhitneyu(control, treatment)\n",
    "print('Statistics=%.3f, p=%.3f' % (stat, p))"
   ]
  },
  {
   "cell_type": "markdown",
   "metadata": {
    "id": "OgrxKPQ0176P"
   },
   "source": [
    "#### Выводы"
   ]
  },
  {
   "cell_type": "markdown",
   "metadata": {
    "id": "ndekXdkR176R"
   },
   "source": [
    "На основании результатов бутстрап можно сделать вывод, что с вероятностью 95% разница средних между контрольной выборкой и тестовой выборкой лежит в интервале от -0.462082 до -0.210996. Данные значения доверительного интервала позволяют сделать вывод о значимости различий. \n",
    "При применении критерия Манна-Уитни был получен p-value=0.003, что также позволяет отклонить нулевую гипотезу о равенственстве средних (p < 0.05).\n",
    "Таким образом, при применении обоих критериев нулевая гипотеза была отклонена. \n",
    "Однако, p-value в бутстрап сильно меньше p-value, полученного u-тестом. Скорее всего, это связано с тем, что критерий Манна-Уитни проверяет гипотезу не равенстве средних значений, а о равенстве распределений, тогда как в бутстрап методе мы сравниваем именно средние значения. Это значит, что случайно выбранное значение из одной выборки может быть равновероятно больше или меньше случайного значения из другой выборки."
   ]
  }
 ],
 "metadata": {
  "colab": {
   "name": "Сравнение средних между тестом и контролем методом бутстрап и критерием Манна-Уитни.ipynb",
   "provenance": []
  },
  "kernelspec": {
   "display_name": "Python 3",
   "language": "python",
   "name": "python3"
  },
  "language_info": {
   "codemirror_mode": {
    "name": "ipython",
    "version": 3
   },
   "file_extension": ".py",
   "mimetype": "text/x-python",
   "name": "python",
   "nbconvert_exporter": "python",
   "pygments_lexer": "ipython3",
   "version": "3.8.3"
  }
 },
 "nbformat": 4,
 "nbformat_minor": 1
}
