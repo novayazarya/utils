{
 "cells": [
  {
   "cell_type": "markdown",
   "metadata": {
    "id": "_BuNdBul2uBi"
   },
   "source": [
    "# Когортный анализ\n",
    "\n",
    "![](http://d35fo82fjcw0y8.cloudfront.net/2016/03/03210554/table1a2.png)"
   ]
  },
  {
   "cell_type": "code",
   "execution_count": 31,
   "metadata": {
    "_cell_guid": "b1076dfc-b9ad-4769-8c92-a6c4dae69d19",
    "_uuid": "8f2839f25d086af736a60e9eeb907d3b93b6e0e5",
    "id": "dLruYS3r2uBk",
    "outputId": "8f83874b-2770-4a87-fd12-db0c230916f2"
   },
   "outputs": [],
   "source": [
    "import numpy as np\n",
    "import pandas as pd\n",
    "import datetime\n",
    "\n",
    "import matplotlib.pyplot as plt\n",
    "import seaborn as sns\n",
    "\n",
    "from sklearn.preprocessing import StandardScaler\n",
    "from sklearn.cluster import KMeans"
   ]
  },
  {
   "cell_type": "code",
   "execution_count": 15,
   "metadata": {},
   "outputs": [],
   "source": [
    "df = pd.read_csv('retail_dataset.csv', parse_dates=['purchasedate'])"
   ]
  },
  {
   "cell_type": "code",
   "execution_count": 16,
   "metadata": {
    "id": "6acNc9_H2uBm",
    "outputId": "965c2caf-45b8-4067-e177-b64c00d6b823"
   },
   "outputs": [
    {
     "data": {
      "text/html": [
       "<div>\n",
       "<style scoped>\n",
       "    .dataframe tbody tr th:only-of-type {\n",
       "        vertical-align: middle;\n",
       "    }\n",
       "\n",
       "    .dataframe tbody tr th {\n",
       "        vertical-align: top;\n",
       "    }\n",
       "\n",
       "    .dataframe thead th {\n",
       "        text-align: right;\n",
       "    }\n",
       "</style>\n",
       "<table border=\"1\" class=\"dataframe\">\n",
       "  <thead>\n",
       "    <tr style=\"text-align: right;\">\n",
       "      <th></th>\n",
       "      <th>purchaseid</th>\n",
       "      <th>item_ID</th>\n",
       "      <th>Quantity</th>\n",
       "      <th>purchasedate</th>\n",
       "      <th>CustomerID</th>\n",
       "      <th>ShopID</th>\n",
       "      <th>loyalty_program</th>\n",
       "    </tr>\n",
       "  </thead>\n",
       "  <tbody>\n",
       "    <tr>\n",
       "      <th>0</th>\n",
       "      <td>538280</td>\n",
       "      <td>21873</td>\n",
       "      <td>11</td>\n",
       "      <td>2016-12-10 12:50:00</td>\n",
       "      <td>18427.0</td>\n",
       "      <td>Shop 0</td>\n",
       "      <td>0.0</td>\n",
       "    </tr>\n",
       "    <tr>\n",
       "      <th>1</th>\n",
       "      <td>538862</td>\n",
       "      <td>22195</td>\n",
       "      <td>0</td>\n",
       "      <td>2016-12-14 14:11:00</td>\n",
       "      <td>22389.0</td>\n",
       "      <td>Shop 0</td>\n",
       "      <td>1.0</td>\n",
       "    </tr>\n",
       "    <tr>\n",
       "      <th>2</th>\n",
       "      <td>538855</td>\n",
       "      <td>21239</td>\n",
       "      <td>7</td>\n",
       "      <td>2016-12-14 13:50:00</td>\n",
       "      <td>22182.0</td>\n",
       "      <td>Shop 0</td>\n",
       "      <td>1.0</td>\n",
       "    </tr>\n",
       "    <tr>\n",
       "      <th>3</th>\n",
       "      <td>543543</td>\n",
       "      <td>22271</td>\n",
       "      <td>0</td>\n",
       "      <td>2017-02-09 15:33:00</td>\n",
       "      <td>23522.0</td>\n",
       "      <td>Shop 0</td>\n",
       "      <td>1.0</td>\n",
       "    </tr>\n",
       "    <tr>\n",
       "      <th>4</th>\n",
       "      <td>543812</td>\n",
       "      <td>79321</td>\n",
       "      <td>0</td>\n",
       "      <td>2017-02-13 14:40:00</td>\n",
       "      <td>23151.0</td>\n",
       "      <td>Shop 0</td>\n",
       "      <td>1.0</td>\n",
       "    </tr>\n",
       "  </tbody>\n",
       "</table>\n",
       "</div>"
      ],
      "text/plain": [
       "  purchaseid item_ID  Quantity        purchasedate  CustomerID  ShopID  \\\n",
       "0     538280   21873        11 2016-12-10 12:50:00     18427.0  Shop 0   \n",
       "1     538862   22195         0 2016-12-14 14:11:00     22389.0  Shop 0   \n",
       "2     538855   21239         7 2016-12-14 13:50:00     22182.0  Shop 0   \n",
       "3     543543   22271         0 2017-02-09 15:33:00     23522.0  Shop 0   \n",
       "4     543812   79321         0 2017-02-13 14:40:00     23151.0  Shop 0   \n",
       "\n",
       "   loyalty_program  \n",
       "0              0.0  \n",
       "1              1.0  \n",
       "2              1.0  \n",
       "3              1.0  \n",
       "4              1.0  "
      ]
     },
     "execution_count": 16,
     "metadata": {},
     "output_type": "execute_result"
    }
   ],
   "source": [
    "df.head(5)"
   ]
  },
  {
   "cell_type": "code",
   "execution_count": 17,
   "metadata": {
    "_cell_guid": "79c7e3d0-c299-4dcb-8224-4455121ee9b0",
    "_uuid": "d629ff2d2480ee46fbb7e2d37f6b5fab8052498a",
    "id": "e8ZirNJC2uBm",
    "outputId": "2032f46f-c9ef-42a2-d05e-e498664b93b2"
   },
   "outputs": [
    {
     "name": "stdout",
     "output_type": "stream",
     "text": [
      "<class 'pandas.core.frame.DataFrame'>\n",
      "RangeIndex: 105335 entries, 0 to 105334\n",
      "Data columns (total 7 columns):\n",
      " #   Column           Non-Null Count   Dtype         \n",
      "---  ------           --------------   -----         \n",
      " 0   purchaseid       105335 non-null  object        \n",
      " 1   item_ID          105335 non-null  object        \n",
      " 2   Quantity         105335 non-null  int64         \n",
      " 3   purchasedate     105335 non-null  datetime64[ns]\n",
      " 4   CustomerID       69125 non-null   float64       \n",
      " 5   ShopID           105335 non-null  object        \n",
      " 6   loyalty_program  105335 non-null  float64       \n",
      "dtypes: datetime64[ns](1), float64(2), int64(1), object(3)\n",
      "memory usage: 5.6+ MB\n"
     ]
    }
   ],
   "source": [
    "df.info()"
   ]
  },
  {
   "cell_type": "markdown",
   "metadata": {
    "id": "_fahGpG-2uBn"
   },
   "source": [
    "Check and Clean Missing Data "
   ]
  },
  {
   "cell_type": "code",
   "execution_count": 18,
   "metadata": {
    "id": "jLtfS7br2uBo",
    "outputId": "be3b1f27-ef10-49ab-b6b3-27933ac01689"
   },
   "outputs": [
    {
     "data": {
      "text/plain": [
       "purchaseid             0\n",
       "item_ID                0\n",
       "Quantity               0\n",
       "purchasedate           0\n",
       "CustomerID         36210\n",
       "ShopID                 0\n",
       "loyalty_program        0\n",
       "dtype: int64"
      ]
     },
     "execution_count": 18,
     "metadata": {},
     "output_type": "execute_result"
    }
   ],
   "source": [
    "df.isnull().sum()"
   ]
  },
  {
   "cell_type": "code",
   "execution_count": 20,
   "metadata": {
    "id": "77-zDHSd2uBo"
   },
   "outputs": [],
   "source": [
    "df = df.dropna(subset=['CustomerID'])"
   ]
  },
  {
   "cell_type": "code",
   "execution_count": 21,
   "metadata": {
    "id": "8KwFAayT2uBo",
    "outputId": "7d735ecd-871b-422a-a35d-a1265029be42"
   },
   "outputs": [
    {
     "data": {
      "text/plain": [
       "0"
      ]
     },
     "execution_count": 21,
     "metadata": {},
     "output_type": "execute_result"
    }
   ],
   "source": [
    "df.isnull().sum().sum()"
   ]
  },
  {
   "cell_type": "code",
   "execution_count": 22,
   "metadata": {
    "id": "ObREt4Y02uBp",
    "outputId": "6da3b0d6-49e9-42e3-a161-e9e21aca5ac7"
   },
   "outputs": [
    {
     "data": {
      "text/plain": [
       "971"
      ]
     },
     "execution_count": 22,
     "metadata": {},
     "output_type": "execute_result"
    }
   ],
   "source": [
    "df.duplicated().sum()"
   ]
  },
  {
   "cell_type": "code",
   "execution_count": 23,
   "metadata": {
    "id": "kKBWRBak2uBp"
   },
   "outputs": [],
   "source": [
    "df = df.drop_duplicates()"
   ]
  },
  {
   "cell_type": "code",
   "execution_count": 24,
   "metadata": {
    "id": "MeSsPRj12uBq",
    "outputId": "69e13f03-3613-41b7-9a17-4ddd00c05713"
   },
   "outputs": [
    {
     "data": {
      "text/plain": [
       "0"
      ]
     },
     "execution_count": 24,
     "metadata": {},
     "output_type": "execute_result"
    }
   ],
   "source": [
    "df.duplicated().sum()"
   ]
  },
  {
   "cell_type": "code",
   "execution_count": 25,
   "metadata": {
    "id": "O-Qv-HSS2uBq",
    "outputId": "3b81c9a5-72fd-4d5a-acd4-7f3abd8e1a7b"
   },
   "outputs": [
    {
     "data": {
      "text/html": [
       "<div>\n",
       "<style scoped>\n",
       "    .dataframe tbody tr th:only-of-type {\n",
       "        vertical-align: middle;\n",
       "    }\n",
       "\n",
       "    .dataframe tbody tr th {\n",
       "        vertical-align: top;\n",
       "    }\n",
       "\n",
       "    .dataframe thead th {\n",
       "        text-align: right;\n",
       "    }\n",
       "</style>\n",
       "<table border=\"1\" class=\"dataframe\">\n",
       "  <thead>\n",
       "    <tr style=\"text-align: right;\">\n",
       "      <th></th>\n",
       "      <th>Quantity</th>\n",
       "      <th>CustomerID</th>\n",
       "      <th>loyalty_program</th>\n",
       "    </tr>\n",
       "  </thead>\n",
       "  <tbody>\n",
       "    <tr>\n",
       "      <th>count</th>\n",
       "      <td>68154.000000</td>\n",
       "      <td>68154.000000</td>\n",
       "      <td>68154.000000</td>\n",
       "    </tr>\n",
       "    <tr>\n",
       "      <th>mean</th>\n",
       "      <td>11.119890</td>\n",
       "      <td>21011.165889</td>\n",
       "      <td>0.343516</td>\n",
       "    </tr>\n",
       "    <tr>\n",
       "      <th>std</th>\n",
       "      <td>406.602498</td>\n",
       "      <td>1766.665163</td>\n",
       "      <td>0.474885</td>\n",
       "    </tr>\n",
       "    <tr>\n",
       "      <th>min</th>\n",
       "      <td>-74216.000000</td>\n",
       "      <td>18025.000000</td>\n",
       "      <td>0.000000</td>\n",
       "    </tr>\n",
       "    <tr>\n",
       "      <th>25%</th>\n",
       "      <td>1.000000</td>\n",
       "      <td>19533.000000</td>\n",
       "      <td>0.000000</td>\n",
       "    </tr>\n",
       "    <tr>\n",
       "      <th>50%</th>\n",
       "      <td>4.000000</td>\n",
       "      <td>20977.000000</td>\n",
       "      <td>0.000000</td>\n",
       "    </tr>\n",
       "    <tr>\n",
       "      <th>75%</th>\n",
       "      <td>11.000000</td>\n",
       "      <td>22633.000000</td>\n",
       "      <td>1.000000</td>\n",
       "    </tr>\n",
       "    <tr>\n",
       "      <th>max</th>\n",
       "      <td>74214.000000</td>\n",
       "      <td>23962.000000</td>\n",
       "      <td>1.000000</td>\n",
       "    </tr>\n",
       "  </tbody>\n",
       "</table>\n",
       "</div>"
      ],
      "text/plain": [
       "           Quantity    CustomerID  loyalty_program\n",
       "count  68154.000000  68154.000000     68154.000000\n",
       "mean      11.119890  21011.165889         0.343516\n",
       "std      406.602498   1766.665163         0.474885\n",
       "min   -74216.000000  18025.000000         0.000000\n",
       "25%        1.000000  19533.000000         0.000000\n",
       "50%        4.000000  20977.000000         0.000000\n",
       "75%       11.000000  22633.000000         1.000000\n",
       "max    74214.000000  23962.000000         1.000000"
      ]
     },
     "execution_count": 25,
     "metadata": {},
     "output_type": "execute_result"
    }
   ],
   "source": [
    "df.describe()"
   ]
  },
  {
   "cell_type": "code",
   "execution_count": 26,
   "metadata": {
    "id": "jy8GTbEB2uBr",
    "outputId": "34bf07f5-952f-4f4c-ce0e-3a7e0eb4af00"
   },
   "outputs": [
    {
     "data": {
      "text/html": [
       "<div>\n",
       "<style scoped>\n",
       "    .dataframe tbody tr th:only-of-type {\n",
       "        vertical-align: middle;\n",
       "    }\n",
       "\n",
       "    .dataframe tbody tr th {\n",
       "        vertical-align: top;\n",
       "    }\n",
       "\n",
       "    .dataframe thead th {\n",
       "        text-align: right;\n",
       "    }\n",
       "</style>\n",
       "<table border=\"1\" class=\"dataframe\">\n",
       "  <thead>\n",
       "    <tr style=\"text-align: right;\">\n",
       "      <th></th>\n",
       "      <th>Quantity</th>\n",
       "      <th>CustomerID</th>\n",
       "      <th>loyalty_program</th>\n",
       "    </tr>\n",
       "  </thead>\n",
       "  <tbody>\n",
       "    <tr>\n",
       "      <th>count</th>\n",
       "      <td>53884.000000</td>\n",
       "      <td>53884.000000</td>\n",
       "      <td>53884.000000</td>\n",
       "    </tr>\n",
       "    <tr>\n",
       "      <th>mean</th>\n",
       "      <td>15.925006</td>\n",
       "      <td>20898.608622</td>\n",
       "      <td>0.322675</td>\n",
       "    </tr>\n",
       "    <tr>\n",
       "      <th>std</th>\n",
       "      <td>324.248449</td>\n",
       "      <td>1769.586855</td>\n",
       "      <td>0.467504</td>\n",
       "    </tr>\n",
       "    <tr>\n",
       "      <th>min</th>\n",
       "      <td>1.000000</td>\n",
       "      <td>18025.000000</td>\n",
       "      <td>0.000000</td>\n",
       "    </tr>\n",
       "    <tr>\n",
       "      <th>25%</th>\n",
       "      <td>2.000000</td>\n",
       "      <td>19373.000000</td>\n",
       "      <td>0.000000</td>\n",
       "    </tr>\n",
       "    <tr>\n",
       "      <th>50%</th>\n",
       "      <td>5.000000</td>\n",
       "      <td>20769.000000</td>\n",
       "      <td>0.000000</td>\n",
       "    </tr>\n",
       "    <tr>\n",
       "      <th>75%</th>\n",
       "      <td>11.000000</td>\n",
       "      <td>22522.000000</td>\n",
       "      <td>1.000000</td>\n",
       "    </tr>\n",
       "    <tr>\n",
       "      <th>max</th>\n",
       "      <td>74214.000000</td>\n",
       "      <td>23962.000000</td>\n",
       "      <td>1.000000</td>\n",
       "    </tr>\n",
       "  </tbody>\n",
       "</table>\n",
       "</div>"
      ],
      "text/plain": [
       "           Quantity    CustomerID  loyalty_program\n",
       "count  53884.000000  53884.000000     53884.000000\n",
       "mean      15.925006  20898.608622         0.322675\n",
       "std      324.248449   1769.586855         0.467504\n",
       "min        1.000000  18025.000000         0.000000\n",
       "25%        2.000000  19373.000000         0.000000\n",
       "50%        5.000000  20769.000000         0.000000\n",
       "75%       11.000000  22522.000000         1.000000\n",
       "max    74214.000000  23962.000000         1.000000"
      ]
     },
     "execution_count": 26,
     "metadata": {},
     "output_type": "execute_result"
    }
   ],
   "source": [
    "df = df[(df['Quantity'] > 0)]\n",
    "df.describe()"
   ]
  },
  {
   "cell_type": "code",
   "execution_count": 13,
   "metadata": {
    "id": "Nan7N4ld2uBr",
    "outputId": "5bb81f04-1bca-4087-b4a5-1a82d2e5fb1c"
   },
   "outputs": [
    {
     "data": {
      "text/plain": [
       "(53884, 7)"
      ]
     },
     "execution_count": 13,
     "metadata": {},
     "output_type": "execute_result"
    }
   ],
   "source": [
    "df.shape"
   ]
  },
  {
   "cell_type": "markdown",
   "metadata": {
    "id": "f2Gmp-UZ2uBs"
   },
   "source": [
    "## Cohort Analysis"
   ]
  },
  {
   "cell_type": "markdown",
   "metadata": {},
   "source": [
    "Для когортного анализа нам нужно создать несколько ярлыков:\n",
    "\n",
    "- Период: строковое представление года и месяца отдельной транзакции.\n",
    "- Когортная группа: строковое представление года и месяца первой покупки покупателя. Этот ярлык является общим для всех счетов для конкретного клиента.\n",
    "- Период когорты / индекс когорты: целое число, представляющее стадию «жизни» клиента. Число представляет количество месяцев, прошедших с момента первой покупки."
   ]
  },
  {
   "cell_type": "code",
   "execution_count": 33,
   "metadata": {
    "id": "zNnKviqI2uBs",
    "outputId": "980d7221-c6eb-4382-ccbf-f47c8081c009"
   },
   "outputs": [
    {
     "data": {
      "text/html": [
       "<div>\n",
       "<style scoped>\n",
       "    .dataframe tbody tr th:only-of-type {\n",
       "        vertical-align: middle;\n",
       "    }\n",
       "\n",
       "    .dataframe tbody tr th {\n",
       "        vertical-align: top;\n",
       "    }\n",
       "\n",
       "    .dataframe thead th {\n",
       "        text-align: right;\n",
       "    }\n",
       "</style>\n",
       "<table border=\"1\" class=\"dataframe\">\n",
       "  <thead>\n",
       "    <tr style=\"text-align: right;\">\n",
       "      <th></th>\n",
       "      <th>purchaseid</th>\n",
       "      <th>item_ID</th>\n",
       "      <th>Quantity</th>\n",
       "      <th>purchasedate</th>\n",
       "      <th>CustomerID</th>\n",
       "      <th>ShopID</th>\n",
       "      <th>loyalty_program</th>\n",
       "      <th>InvoiceMonth</th>\n",
       "      <th>CohortMonth</th>\n",
       "    </tr>\n",
       "  </thead>\n",
       "  <tbody>\n",
       "    <tr>\n",
       "      <th>105320</th>\n",
       "      <td>539840</td>\n",
       "      <td>21126</td>\n",
       "      <td>11</td>\n",
       "      <td>2016-12-22 14:28:00</td>\n",
       "      <td>18062.0</td>\n",
       "      <td>Shop 12</td>\n",
       "      <td>0.0</td>\n",
       "      <td>2016-12-01</td>\n",
       "      <td>2016-12-01</td>\n",
       "    </tr>\n",
       "    <tr>\n",
       "      <th>105328</th>\n",
       "      <td>537886</td>\n",
       "      <td>22158</td>\n",
       "      <td>7</td>\n",
       "      <td>2016-12-09 09:49:00</td>\n",
       "      <td>21339.0</td>\n",
       "      <td>Shop 0</td>\n",
       "      <td>0.0</td>\n",
       "      <td>2016-12-01</td>\n",
       "      <td>2016-12-01</td>\n",
       "    </tr>\n",
       "    <tr>\n",
       "      <th>105332</th>\n",
       "      <td>538068</td>\n",
       "      <td>85048</td>\n",
       "      <td>1</td>\n",
       "      <td>2016-12-09 14:05:00</td>\n",
       "      <td>23657.0</td>\n",
       "      <td>Shop 0</td>\n",
       "      <td>1.0</td>\n",
       "      <td>2016-12-01</td>\n",
       "      <td>2016-12-01</td>\n",
       "    </tr>\n",
       "    <tr>\n",
       "      <th>105333</th>\n",
       "      <td>538207</td>\n",
       "      <td>22818</td>\n",
       "      <td>11</td>\n",
       "      <td>2016-12-10 11:33:00</td>\n",
       "      <td>18427.0</td>\n",
       "      <td>Shop 0</td>\n",
       "      <td>0.0</td>\n",
       "      <td>2016-12-01</td>\n",
       "      <td>2016-12-01</td>\n",
       "    </tr>\n",
       "    <tr>\n",
       "      <th>105334</th>\n",
       "      <td>543977</td>\n",
       "      <td>22384</td>\n",
       "      <td>9</td>\n",
       "      <td>2017-02-14 15:35:00</td>\n",
       "      <td>21294.0</td>\n",
       "      <td>Shop 0</td>\n",
       "      <td>0.0</td>\n",
       "      <td>2017-02-01</td>\n",
       "      <td>2016-12-01</td>\n",
       "    </tr>\n",
       "  </tbody>\n",
       "</table>\n",
       "</div>"
      ],
      "text/plain": [
       "       purchaseid item_ID  Quantity        purchasedate  CustomerID   ShopID  \\\n",
       "105320     539840   21126        11 2016-12-22 14:28:00     18062.0  Shop 12   \n",
       "105328     537886   22158         7 2016-12-09 09:49:00     21339.0   Shop 0   \n",
       "105332     538068   85048         1 2016-12-09 14:05:00     23657.0   Shop 0   \n",
       "105333     538207   22818        11 2016-12-10 11:33:00     18427.0   Shop 0   \n",
       "105334     543977   22384         9 2017-02-14 15:35:00     21294.0   Shop 0   \n",
       "\n",
       "        loyalty_program InvoiceMonth CohortMonth  \n",
       "105320              0.0   2016-12-01  2016-12-01  \n",
       "105328              0.0   2016-12-01  2016-12-01  \n",
       "105332              1.0   2016-12-01  2016-12-01  \n",
       "105333              0.0   2016-12-01  2016-12-01  \n",
       "105334              0.0   2017-02-01  2016-12-01  "
      ]
     },
     "execution_count": 33,
     "metadata": {},
     "output_type": "execute_result"
    }
   ],
   "source": [
    "def get_month(date):\n",
    "    return datetime.datetime(date.year, date.month, 1)\n",
    "\n",
    "df['InvoiceMonth'] = df['purchasedate'].apply(get_month)\n",
    "grouping = df.groupby('CustomerID')['InvoiceMonth']\n",
    "df['CohortMonth'] = grouping.transform('min')\n",
    "df.tail()"
   ]
  },
  {
   "cell_type": "code",
   "execution_count": 34,
   "metadata": {},
   "outputs": [],
   "source": [
    "def get_cohort_index(df, columns):\n",
    "    year_diff = df[columns[0]].dt.year - df[columns[1]].dt.year\n",
    "    month_diff = df[columns[0]].dt.month - df[columns[1]].dt.month\n",
    "    return year_diff * 12 + month_diff + 1"
   ]
  },
  {
   "cell_type": "code",
   "execution_count": 36,
   "metadata": {},
   "outputs": [],
   "source": [
    "df['CohortIndex'] = get_cohort_index(df, ['InvoiceMonth', 'CohortMonth'])"
   ]
  },
  {
   "cell_type": "code",
   "execution_count": 37,
   "metadata": {
    "id": "NKBPQL182uBt",
    "outputId": "47786f16-9644-4312-dcc0-43cfe0d4adf6"
   },
   "outputs": [
    {
     "data": {
      "text/html": [
       "<div>\n",
       "<style scoped>\n",
       "    .dataframe tbody tr th:only-of-type {\n",
       "        vertical-align: middle;\n",
       "    }\n",
       "\n",
       "    .dataframe tbody tr th {\n",
       "        vertical-align: top;\n",
       "    }\n",
       "\n",
       "    .dataframe thead th {\n",
       "        text-align: right;\n",
       "    }\n",
       "</style>\n",
       "<table border=\"1\" class=\"dataframe\">\n",
       "  <thead>\n",
       "    <tr style=\"text-align: right;\">\n",
       "      <th>CohortIndex</th>\n",
       "      <th>1</th>\n",
       "      <th>2</th>\n",
       "      <th>3</th>\n",
       "    </tr>\n",
       "    <tr>\n",
       "      <th>CohortMonth</th>\n",
       "      <th></th>\n",
       "      <th></th>\n",
       "      <th></th>\n",
       "    </tr>\n",
       "  </thead>\n",
       "  <tbody>\n",
       "    <tr>\n",
       "      <th>2016-12-01</th>\n",
       "      <td>881.0</td>\n",
       "      <td>321.0</td>\n",
       "      <td>284.0</td>\n",
       "    </tr>\n",
       "    <tr>\n",
       "      <th>2017-01-01</th>\n",
       "      <td>415.0</td>\n",
       "      <td>92.0</td>\n",
       "      <td>NaN</td>\n",
       "    </tr>\n",
       "    <tr>\n",
       "      <th>2017-02-01</th>\n",
       "      <td>375.0</td>\n",
       "      <td>NaN</td>\n",
       "      <td>NaN</td>\n",
       "    </tr>\n",
       "  </tbody>\n",
       "</table>\n",
       "</div>"
      ],
      "text/plain": [
       "CohortIndex      1      2      3\n",
       "CohortMonth                     \n",
       "2016-12-01   881.0  321.0  284.0\n",
       "2017-01-01   415.0   92.0    NaN\n",
       "2017-02-01   375.0    NaN    NaN"
      ]
     },
     "execution_count": 37,
     "metadata": {},
     "output_type": "execute_result"
    }
   ],
   "source": [
    "# Count monthly active customers from each cohort\n",
    "grouping = df.groupby(['CohortMonth', 'CohortIndex'])\n",
    "cohort_data = grouping['CustomerID'].apply(pd.Series.nunique)\n",
    "# Return number of unique elements in the object.\n",
    "cohort_data = cohort_data.reset_index()\n",
    "cohort_counts = cohort_data.pivot(index='CohortMonth', columns='CohortIndex', values='CustomerID')\n",
    "cohort_counts"
   ]
  },
  {
   "cell_type": "code",
   "execution_count": 63,
   "metadata": {
    "id": "92abTjsK2uBt",
    "outputId": "4f1419e5-4114-451a-8277-02d0ed65cccf"
   },
   "outputs": [
    {
     "data": {
      "text/html": [
       "<div>\n",
       "<style scoped>\n",
       "    .dataframe tbody tr th:only-of-type {\n",
       "        vertical-align: middle;\n",
       "    }\n",
       "\n",
       "    .dataframe tbody tr th {\n",
       "        vertical-align: top;\n",
       "    }\n",
       "\n",
       "    .dataframe thead th {\n",
       "        text-align: right;\n",
       "    }\n",
       "</style>\n",
       "<table border=\"1\" class=\"dataframe\">\n",
       "  <thead>\n",
       "    <tr style=\"text-align: right;\">\n",
       "      <th>CohortIndex</th>\n",
       "      <th>1</th>\n",
       "      <th>2</th>\n",
       "      <th>3</th>\n",
       "    </tr>\n",
       "    <tr>\n",
       "      <th>CohortMonth</th>\n",
       "      <th></th>\n",
       "      <th></th>\n",
       "      <th></th>\n",
       "    </tr>\n",
       "  </thead>\n",
       "  <tbody>\n",
       "    <tr>\n",
       "      <th>2016-12-01</th>\n",
       "      <td>100.0</td>\n",
       "      <td>36.4</td>\n",
       "      <td>32.2</td>\n",
       "    </tr>\n",
       "    <tr>\n",
       "      <th>2017-01-01</th>\n",
       "      <td>100.0</td>\n",
       "      <td>22.2</td>\n",
       "      <td>NaN</td>\n",
       "    </tr>\n",
       "    <tr>\n",
       "      <th>2017-02-01</th>\n",
       "      <td>100.0</td>\n",
       "      <td>NaN</td>\n",
       "      <td>NaN</td>\n",
       "    </tr>\n",
       "  </tbody>\n",
       "</table>\n",
       "</div>"
      ],
      "text/plain": [
       "CohortIndex      1     2     3\n",
       "CohortMonth                   \n",
       "2016-12-01   100.0  36.4  32.2\n",
       "2017-01-01   100.0  22.2   NaN\n",
       "2017-02-01   100.0   NaN   NaN"
      ]
     },
     "execution_count": 63,
     "metadata": {},
     "output_type": "execute_result"
    }
   ],
   "source": [
    "# Retention table\n",
    "cohort_size = cohort_counts.iloc[:,0]\n",
    "retention = cohort_counts.divide(cohort_size, axis=0) #axis=0 to ensure the divide along the row axis \n",
    "# retention.index = retention.index.date\n",
    "retention.round(3) * 100 #to show the number as percentage "
   ]
  },
  {
   "cell_type": "code",
   "execution_count": 71,
   "metadata": {
    "id": "5nS_lxyl2uBu",
    "outputId": "743c3cd0-8ca9-4515-8443-4ff919c351d7"
   },
   "outputs": [
    {
     "data": {
      "image/png": "[encoded data removed]",
      "text/plain": [
       "<Figure size 864x576 with 2 Axes>"
      ]
     },
     "metadata": {
      "needs_background": "light"
     },
     "output_type": "display_data"
    }
   ],
   "source": [
    "from matplotlib.dates import DateFormatter\n",
    "#Build the heatmap\n",
    "fig, ax = plt.subplots(figsize=(12, 8))\n",
    "plt.title('Retention rates')\n",
    "sns.heatmap(data=retention, annot=True, fmt='.0%', vmin=0.0, vmax=0.5, cmap=\"BuPu_r\")\n",
    "ax.set_yticklabels([x.date().strftime(\"%m-%Y\") for x in retention.index], ha='right');\n",
    "#date_form = DateFormatter(\"%Y-%m\")\n",
    "#ax.yaxis.set_major_formatter(date_form)"
   ]
  },
  {
   "cell_type": "code",
   "execution_count": 70,
   "metadata": {
    "id": "SbLLm5Fo2uBu",
    "outputId": "88397b09-f628-41be-b5e0-2ce12cc32896"
   },
   "outputs": [
    {
     "data": {
      "image/png": "[encoded data removed]",
      "text/plain": [
       "<Figure size 864x576 with 2 Axes>"
      ]
     },
     "metadata": {
      "needs_background": "light"
     },
     "output_type": "display_data"
    }
   ],
   "source": [
    "#Average quantity for each cohort\n",
    "grouping = df.groupby(['CohortMonth', 'CohortIndex'])\n",
    "cohort_data = grouping['Quantity'].mean()\n",
    "cohort_data = cohort_data.reset_index()\n",
    "average_quantity = cohort_data.pivot(index='CohortMonth', columns='CohortIndex', values='Quantity')\n",
    "average_quantity.round(1)\n",
    "# average_quantity.index = average_quantity.index.date\n",
    "\n",
    "#Build the heatmap\n",
    "fig, ax = plt.subplots(figsize=(12, 8))\n",
    "plt.title('Average quantity for each cohort')\n",
    "sns.heatmap(data=average_quantity, annot=True, vmin=0.0, vmax=20, cmap=\"BuGn_r\")\n",
    "ax.set_yticklabels([x.date().strftime(\"%m-%Y\") for x in average_quantity.index], ha='right');"
   ]
  }
 ],
 "metadata": {
  "colab": {
   "collapsed_sections": [],
   "include_colab_link": true,
   "name": "cohort-analysis.ipynb",
   "provenance": []
  },
  "kernelspec": {
   "display_name": "Python 3",
   "language": "python",
   "name": "python3"
  },
  "language_info": {
   "codemirror_mode": {
    "name": "ipython",
    "version": 3
   },
   "file_extension": ".py",
   "mimetype": "text/x-python",
   "name": "python",
   "nbconvert_exporter": "python",
   "pygments_lexer": "ipython3",
   "version": "3.8.3"
  }
 },
 "nbformat": 4,
 "nbformat_minor": 1
}
