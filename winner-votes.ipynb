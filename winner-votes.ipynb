{
 "cells": [
  {
   "cell_type": "markdown",
   "metadata": {},
   "source": [
    "Write the function to detect the winner of votes winner_votes(df), which get as an input pandas df and returns as a result tuple (list in () instead of []) like ('winner name', votes). The voting is by majority for the state (if equal votes assume the alphabetical order prevails)."
   ]
  },
  {
   "cell_type": "code",
   "execution_count": 2,
   "metadata": {},
   "outputs": [],
   "source": [
    "import pandas as pd\n",
    "from typing import Tuple"
   ]
  },
  {
   "cell_type": "code",
   "execution_count": 4,
   "metadata": {},
   "outputs": [],
   "source": [
    "def winner_votes(df: pd.DataFrame) -> Tuple[str, int]:\n",
    "    votes = df.drop(columns=['state']).set_index('electors')\n",
    "    votes = votes.T.idxmax().reset_index().rename(columns={0: 'candidates'})\n",
    "    winner = votes.groupby('candidates')['electors'].sum() \\\n",
    "                                                    .nlargest(1) \\\n",
    "                                                    .to_dict() \\\n",
    "                                                    .items()\n",
    "    return [*winner][0]"
   ]
  },
  {
   "cell_type": "code",
   "execution_count": 5,
   "metadata": {},
   "outputs": [],
   "source": [
    "df = pd.DataFrame([['Winterfell', 3, 0.6, 0.3, 0.1],\n",
    "                   ['Riverrun', 5, 0.3, 0.2, 0.5],\n",
    "                   ['Vaes Dothrak', 2, 0.2, 0.3, 0.5]],\n",
    "                   columns=['state', 'electors', \n",
    "                            'Arya Stark', \n",
    "                            'Tyrion Lannister', \n",
    "                            'Deineris Targarien'])\n",
    "\n",
    "assert winner_votes(df) == (\"Deineris Targarien\", 7)"
   ]
  },
  {
   "cell_type": "code",
   "execution_count": 6,
   "metadata": {},
   "outputs": [
    {
     "data": {
      "text/plain": [
       "('Deineris Targarien', 7)"
      ]
     },
     "execution_count": 6,
     "metadata": {},
     "output_type": "execute_result"
    }
   ],
   "source": [
    "winner_votes(df)"
   ]
  }
 ],
 "metadata": {
  "kernelspec": {
   "display_name": "Python 3",
   "language": "python",
   "name": "python3"
  },
  "language_info": {
   "codemirror_mode": {
    "name": "ipython",
    "version": 3
   },
   "file_extension": ".py",
   "mimetype": "text/x-python",
   "name": "python",
   "nbconvert_exporter": "python",
   "pygments_lexer": "ipython3",
   "version": "3.8.3"
  }
 },
 "nbformat": 4,
 "nbformat_minor": 4
}
