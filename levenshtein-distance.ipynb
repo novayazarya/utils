{
 "cells": [
  {
   "cell_type": "markdown",
   "metadata": {},
   "source": [
    "#  Расстояние Левенштейна\n",
    "\n",
    "Алгоритм динамического программирования для вычисления расстояния редактирования между строками `s1` и `s2`."
   ]
  },
  {
   "cell_type": "code",
   "execution_count": 1,
   "metadata": {},
   "outputs": [],
   "source": [
    "def edit_distance(s1: str, s2: str) -> int:\n",
    "    n1, n2 = len(s1), len(s2)\n",
    "    d = [[0] * (n2 + 1) for _ in range(n1 + 1)]\n",
    "\n",
    "    d[0][:] = range(n2 + 1)\n",
    "    for i in range(1, n1 + 1):\n",
    "        d[i][0] = i\n",
    "\n",
    "    for i, x in enumerate(s1):\n",
    "        for j, y in enumerate(s2):\n",
    "            d[i+1][j+1] = min(1 + d[i][j+1],\n",
    "                              1 + d[i+1][j],\n",
    "                              d[i][j] + (1 * x != y))\n",
    "\n",
    "    return d[n1][n2]"
   ]
  },
  {
   "cell_type": "code",
   "execution_count": 3,
   "metadata": {},
   "outputs": [],
   "source": [
    "assert edit_distance('kitten', 'sitting') == 3\n",
    "assert edit_distance('cat', 'dog') == 3\n",
    "assert edit_distance('pop', 'cop') == 1"
   ]
  }
 ],
 "metadata": {
  "kernelspec": {
   "display_name": "Python 3",
   "language": "python",
   "name": "python3"
  },
  "language_info": {
   "codemirror_mode": {
    "name": "ipython",
    "version": 3
   },
   "file_extension": ".py",
   "mimetype": "text/x-python",
   "name": "python",
   "nbconvert_exporter": "python",
   "pygments_lexer": "ipython3",
   "version": "3.8.3"
  }
 },
 "nbformat": 4,
 "nbformat_minor": 4
}
