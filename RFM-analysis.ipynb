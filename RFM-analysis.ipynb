{
 "cells": [
  {
   "cell_type": "markdown",
   "metadata": {},
   "source": [
    "# RFM-анализ"
   ]
  },
  {
   "cell_type": "code",
   "execution_count": 14,
   "metadata": {},
   "outputs": [],
   "source": [
    "import pandahouse as ph\n",
    "import pandas as pd"
   ]
  },
  {
   "cell_type": "markdown",
   "metadata": {},
   "source": [
    "Нужно написать функцию, которая будет отправлять текст SQL-запроса, в нашем случае - запроса к ClickHouse, на сервер, а по выполнении запроса забирать его результаты в каком-то виде."
   ]
  },
  {
   "cell_type": "code",
   "execution_count": 9,
   "metadata": {},
   "outputs": [],
   "source": [
    "connection = {'host': 'http://clickhouse.beslan.pro:8080/',\n",
    "                      #'database':'test',\n",
    "                      'user':'student', \n",
    "                      'password':'dpo_python_2020'\n",
    "                     }"
   ]
  },
  {
   "cell_type": "markdown",
   "metadata": {},
   "source": [
    "RFM-анализ, в основе которого лежат поведенческие факторы групп или сегментов клиентов. Данный метод анализа позволяет изучить поведение пользователей и то, как они совершают платежи. В результате вы получите ценные инсайты по построению директ-маркетинга для вашей компании.​ Также RFM-сегментация поможет вам применять в коммуникациях особый подход к каждой группе клиентов.\n",
    "\n",
    "## Что такое RFM-анализ и зачем он нужен маркетологу\n",
    "RFM-анализ — метод анализа, позволяющий сегментировать клиентов по частоте и сумме покупок и выявлять тех, которые приносят больше денег.\n",
    "\n",
    "Аббревиатура RFM расшифровывается:\n",
    "\n",
    "- Recency — давность (как давно ваши клиенты что-то у вас покупали);\n",
    "- Frequency — частота (как часто они у вас покупают);\n",
    "- Monetary — деньги (общая сумма покупок).\n",
    "\n",
    "По этим признакам можно разделить всех ваших клиентов на группы, понять, кто покупает у вас часто и много, кто — часто, но мало, а кто вообще давно ничего не покупал.\n",
    "\n",
    "Как правило, небольшой процент пользователей реагирует на общие рекламные предложения. RFM-анализ и RFM-сегментация являются отличным методом прогнозирования реакции клиента и улучшения взаимодействия, а также повышение прибыли. RFM использует поведение покупателей, чтобы определить, как работать с каждой группой клиентов. \n",
    "\n",
    "Суть RFM-анализа в том, что мы разделяем всех клиентов на группы, в зависимости от того, как давно они сделали последнюю покупку, как часто покупали и насколько большой была сумма их заказов. По каждому из этих признаков мы выделяем по три равные группы. Затем присваиваем каждой группе числовое обозначение от 1 до 3.\n",
    "\n",
    "**По давности заказа:**\n",
    "\n",
    "- 1 — давние клиенты;\n",
    "- 2 — относительно недавние клиенты;\n",
    "- 3 — недавние клиенты.\n",
    "\n",
    "**По частоте покупок:**\n",
    "\n",
    "- 1 — покупает очень редко (единичные заказы);​\n",
    "- 2 — покупает нечасто;\n",
    "- 3 — покупает часто.\n",
    "\n",
    "**По сумме покупок:**\n",
    "\n",
    "- 1 — маленькая сумма покупок;\n",
    "- 2 — средняя сумма покупок;\n",
    "- 3 — большая сумма покупок.\n",
    "\n",
    "Например, клиент «111» покупал давно, один раз и на маленькую сумму. Или клиент «333»: покупает часто, на большую сумму и последняя покупка была недавно. Это ваши лучшие клиенты."
   ]
  },
  {
   "cell_type": "code",
   "execution_count": 120,
   "metadata": {},
   "outputs": [],
   "source": [
    "query = \"\"\"\n",
    "  SELECT *\n",
    "  FROM checks\n",
    "  WHERE Rub > 0\n",
    "  LIMIT 1000000\n",
    "\"\"\""
   ]
  },
  {
   "cell_type": "code",
   "execution_count": 121,
   "metadata": {},
   "outputs": [],
   "source": [
    "df = ph.read_clickhouse(query=query, connection=connection_default)"
   ]
  },
  {
   "cell_type": "code",
   "execution_count": 122,
   "metadata": {},
   "outputs": [
    {
     "name": "stdout",
     "output_type": "stream",
     "text": [
      "<class 'pandas.core.frame.DataFrame'>\n",
      "RangeIndex: 1000000 entries, 0 to 999999\n",
      "Data columns (total 3 columns):\n",
      " #   Column   Non-Null Count    Dtype \n",
      "---  ------   --------------    ----- \n",
      " 0   Rub      1000000 non-null  uint32\n",
      " 1   BuyDate  1000000 non-null  object\n",
      " 2   UserID   1000000 non-null  uint64\n",
      "dtypes: object(1), uint32(1), uint64(1)\n",
      "memory usage: 19.1+ MB\n"
     ]
    }
   ],
   "source": [
    "df.info()"
   ]
  },
  {
   "cell_type": "code",
   "execution_count": 123,
   "metadata": {},
   "outputs": [],
   "source": [
    "df.BuyDate = pd.to_datetime(df.BuyDate)"
   ]
  },
  {
   "cell_type": "code",
   "execution_count": 124,
   "metadata": {},
   "outputs": [
    {
     "data": {
      "text/html": [
       "<div>\n",
       "<style scoped>\n",
       "    .dataframe tbody tr th:only-of-type {\n",
       "        vertical-align: middle;\n",
       "    }\n",
       "\n",
       "    .dataframe tbody tr th {\n",
       "        vertical-align: top;\n",
       "    }\n",
       "\n",
       "    .dataframe thead th {\n",
       "        text-align: right;\n",
       "    }\n",
       "</style>\n",
       "<table border=\"1\" class=\"dataframe\">\n",
       "  <thead>\n",
       "    <tr style=\"text-align: right;\">\n",
       "      <th></th>\n",
       "      <th>Rub</th>\n",
       "      <th>BuyDate</th>\n",
       "      <th>UserID</th>\n",
       "    </tr>\n",
       "  </thead>\n",
       "  <tbody>\n",
       "    <tr>\n",
       "      <th>0</th>\n",
       "      <td>3</td>\n",
       "      <td>2019-08-03</td>\n",
       "      <td>13957114790337189433</td>\n",
       "    </tr>\n",
       "    <tr>\n",
       "      <th>1</th>\n",
       "      <td>4</td>\n",
       "      <td>2019-08-03</td>\n",
       "      <td>13956859514850028320</td>\n",
       "    </tr>\n",
       "    <tr>\n",
       "      <th>2</th>\n",
       "      <td>1</td>\n",
       "      <td>2019-08-03</td>\n",
       "      <td>13956853330294515807</td>\n",
       "    </tr>\n",
       "    <tr>\n",
       "      <th>3</th>\n",
       "      <td>12</td>\n",
       "      <td>2019-08-03</td>\n",
       "      <td>13956766250445288278</td>\n",
       "    </tr>\n",
       "    <tr>\n",
       "      <th>4</th>\n",
       "      <td>15</td>\n",
       "      <td>2019-08-03</td>\n",
       "      <td>13956663941630845600</td>\n",
       "    </tr>\n",
       "  </tbody>\n",
       "</table>\n",
       "</div>"
      ],
      "text/plain": [
       "   Rub    BuyDate                UserID\n",
       "0    3 2019-08-03  13957114790337189433\n",
       "1    4 2019-08-03  13956859514850028320\n",
       "2    1 2019-08-03  13956853330294515807\n",
       "3   12 2019-08-03  13956766250445288278\n",
       "4   15 2019-08-03  13956663941630845600"
      ]
     },
     "execution_count": 124,
     "metadata": {},
     "output_type": "execute_result"
    }
   ],
   "source": [
    "df.head()"
   ]
  },
  {
   "cell_type": "code",
   "execution_count": 125,
   "metadata": {},
   "outputs": [
    {
     "data": {
      "text/plain": [
       "718950"
      ]
     },
     "execution_count": 125,
     "metadata": {},
     "output_type": "execute_result"
    }
   ],
   "source": [
    "df.UserID.nunique()"
   ]
  },
  {
   "cell_type": "markdown",
   "metadata": {},
   "source": [
    "- определить последнюю дату покупки каждого клиента\n",
    "- посчитать сколько раз заказывал каждый клиент\n",
    "- общую сумму по каждому клиенту"
   ]
  },
  {
   "cell_type": "code",
   "execution_count": 161,
   "metadata": {},
   "outputs": [],
   "source": [
    "rfm = df.assign(Count=1).groupby('UserID') \\\n",
    "              .agg({'BuyDate': max, 'Rub': sum, 'Count': sum}).reset_index()"
   ]
  },
  {
   "cell_type": "markdown",
   "metadata": {},
   "source": [
    "С помощью формулы `TODAY()` - дата последней покупки мы рассчитываем какое количество дней назад были совершены последние покупки. Это и будут данные по нашей R(Recency) "
   ]
  },
  {
   "cell_type": "code",
   "execution_count": 162,
   "metadata": {},
   "outputs": [],
   "source": [
    "today = pd.Timestamp('2020') # возьмем начало 2020 для точки отсчета, а не pd.Timestamp.today()\n",
    "rfm['BuyDate'] = (today - rfm['BuyDate']).dt.days"
   ]
  },
  {
   "cell_type": "code",
   "execution_count": 163,
   "metadata": {},
   "outputs": [],
   "source": [
    "rfm.rename(columns={'BuyDate': 'R', 'Count': 'F', 'Rub': 'M'}, inplace=True)"
   ]
  },
  {
   "cell_type": "code",
   "execution_count": 129,
   "metadata": {},
   "outputs": [
    {
     "data": {
      "text/html": [
       "<div>\n",
       "<style scoped>\n",
       "    .dataframe tbody tr th:only-of-type {\n",
       "        vertical-align: middle;\n",
       "    }\n",
       "\n",
       "    .dataframe tbody tr th {\n",
       "        vertical-align: top;\n",
       "    }\n",
       "\n",
       "    .dataframe thead th {\n",
       "        text-align: right;\n",
       "    }\n",
       "</style>\n",
       "<table border=\"1\" class=\"dataframe\">\n",
       "  <thead>\n",
       "    <tr style=\"text-align: right;\">\n",
       "      <th></th>\n",
       "      <th>UserID</th>\n",
       "      <th>R</th>\n",
       "      <th>M</th>\n",
       "      <th>F</th>\n",
       "    </tr>\n",
       "  </thead>\n",
       "  <tbody>\n",
       "    <tr>\n",
       "      <th>0</th>\n",
       "      <td>3116519148596</td>\n",
       "      <td>297</td>\n",
       "      <td>5</td>\n",
       "      <td>1</td>\n",
       "    </tr>\n",
       "    <tr>\n",
       "      <th>1</th>\n",
       "      <td>27344263464379</td>\n",
       "      <td>189</td>\n",
       "      <td>4</td>\n",
       "      <td>1</td>\n",
       "    </tr>\n",
       "    <tr>\n",
       "      <th>2</th>\n",
       "      <td>43996990388727</td>\n",
       "      <td>89</td>\n",
       "      <td>1</td>\n",
       "      <td>1</td>\n",
       "    </tr>\n",
       "    <tr>\n",
       "      <th>3</th>\n",
       "      <td>47290329858223</td>\n",
       "      <td>333</td>\n",
       "      <td>5</td>\n",
       "      <td>1</td>\n",
       "    </tr>\n",
       "    <tr>\n",
       "      <th>4</th>\n",
       "      <td>69805931616875</td>\n",
       "      <td>333</td>\n",
       "      <td>1</td>\n",
       "      <td>1</td>\n",
       "    </tr>\n",
       "    <tr>\n",
       "      <th>...</th>\n",
       "      <td>...</td>\n",
       "      <td>...</td>\n",
       "      <td>...</td>\n",
       "      <td>...</td>\n",
       "    </tr>\n",
       "    <tr>\n",
       "      <th>718945</th>\n",
       "      <td>18446621313467415614</td>\n",
       "      <td>152</td>\n",
       "      <td>20</td>\n",
       "      <td>1</td>\n",
       "    </tr>\n",
       "    <tr>\n",
       "      <th>718946</th>\n",
       "      <td>18446622348748244246</td>\n",
       "      <td>334</td>\n",
       "      <td>16</td>\n",
       "      <td>1</td>\n",
       "    </tr>\n",
       "    <tr>\n",
       "      <th>718947</th>\n",
       "      <td>18446628846419558718</td>\n",
       "      <td>90</td>\n",
       "      <td>50</td>\n",
       "      <td>4</td>\n",
       "    </tr>\n",
       "    <tr>\n",
       "      <th>718948</th>\n",
       "      <td>18446652928377370962</td>\n",
       "      <td>152</td>\n",
       "      <td>10</td>\n",
       "      <td>1</td>\n",
       "    </tr>\n",
       "    <tr>\n",
       "      <th>718949</th>\n",
       "      <td>18446711887571427024</td>\n",
       "      <td>117</td>\n",
       "      <td>9</td>\n",
       "      <td>1</td>\n",
       "    </tr>\n",
       "  </tbody>\n",
       "</table>\n",
       "<p>718950 rows × 4 columns</p>\n",
       "</div>"
      ],
      "text/plain": [
       "                      UserID    R   M  F\n",
       "0              3116519148596  297   5  1\n",
       "1             27344263464379  189   4  1\n",
       "2             43996990388727   89   1  1\n",
       "3             47290329858223  333   5  1\n",
       "4             69805931616875  333   1  1\n",
       "...                      ...  ...  .. ..\n",
       "718945  18446621313467415614  152  20  1\n",
       "718946  18446622348748244246  334  16  1\n",
       "718947  18446628846419558718   90  50  4\n",
       "718948  18446652928377370962  152  10  1\n",
       "718949  18446711887571427024  117   9  1\n",
       "\n",
       "[718950 rows x 4 columns]"
      ]
     },
     "execution_count": 129,
     "metadata": {},
     "output_type": "execute_result"
    }
   ],
   "source": [
    "rfm"
   ]
  },
  {
   "cell_type": "markdown",
   "metadata": {},
   "source": [
    "У нас есть все данные по Recency, Frequency (количество заказов) и Monetary (сумма). Сейчас мы будем присваивать значения от 1 до 3 (о чем мы уже говорили чуть выше) в соответствии с этими данными.\n",
    "\n",
    "Начнем со значений для Recency. Первое, что нам нужно, это рассчитать как давно у нас покупали 33% и 66% клиентов."
   ]
  },
  {
   "cell_type": "code",
   "execution_count": 130,
   "metadata": {},
   "outputs": [
    {
     "data": {
      "text/plain": [
       "0.33    117.0\n",
       "0.66    228.0\n",
       "Name: R, dtype: float64"
      ]
     },
     "execution_count": 130,
     "metadata": {},
     "output_type": "execute_result"
    }
   ],
   "source": [
    "rfm.R.quantile([.33, .66])"
   ]
  },
  {
   "cell_type": "markdown",
   "metadata": {},
   "source": [
    "Теперь мы знаем, что 33% клиентов покупали наши товары менее 117 дней назад, а 66% — более 228 дней назад.\n",
    "\n",
    "Соответственно, тем клиентам, кто покупал менее, чем 117 дней назад мы присваиваем наивысшее значение - 3. Тем, кто делал заказ от 151 до 228 дней назад - 2. И остальным, кто покупал более чем 228 дня назад мы присваиваем значение 1. \n",
    "\n",
    "Мы можем и нарезать квантили `pd.qcut(rfm.R, q=3, labels=range(3, 0, -1))`"
   ]
  },
  {
   "cell_type": "code",
   "execution_count": 164,
   "metadata": {},
   "outputs": [],
   "source": [
    "rfm.R = rfm.R.apply(lambda x: 3 if x < 117 else 2 if 117 <= x <= 228 else 1)"
   ]
  },
  {
   "cell_type": "markdown",
   "metadata": {},
   "source": [
    "По такому же принципу просчитываем значения для F(Frequency) и M(Mmonetary): сначала вычисляем сколько раз покупали 33% и 66% клиентов и по результатам проставляем значения от 1 до 3."
   ]
  },
  {
   "cell_type": "code",
   "execution_count": 132,
   "metadata": {},
   "outputs": [
    {
     "data": {
      "text/plain": [
       "0.33    1.0\n",
       "0.66    1.0\n",
       "Name: F, dtype: float64"
      ]
     },
     "execution_count": 132,
     "metadata": {},
     "output_type": "execute_result"
    }
   ],
   "source": [
    "rfm.F.quantile([.33, .66]) # видим что большая часть пользователей совершила только одну покупку"
   ]
  },
  {
   "cell_type": "code",
   "execution_count": 165,
   "metadata": {},
   "outputs": [],
   "source": [
    "rfm.F = rfm.F.apply(lambda x: 3 if x > 2 else 2 if  x == 2 else 1)"
   ]
  },
  {
   "cell_type": "code",
   "execution_count": 134,
   "metadata": {},
   "outputs": [
    {
     "data": {
      "text/plain": [
       "0.33     4.0\n",
       "0.66    15.0\n",
       "Name: M, dtype: float64"
      ]
     },
     "execution_count": 134,
     "metadata": {},
     "output_type": "execute_result"
    }
   ],
   "source": [
    "rfm.M.quantile([.33, .66])"
   ]
  },
  {
   "cell_type": "code",
   "execution_count": 166,
   "metadata": {},
   "outputs": [],
   "source": [
    "rfm.M = rfm.M.apply(lambda x: 3 if x > 15 else 2 if 4 <= x <= 15 else 1)"
   ]
  },
  {
   "cell_type": "markdown",
   "metadata": {},
   "source": [
    "И для большей наглядности нам осталось просчитать общее значение RFM, объединив все 3 значения по каждому клиенту в одну ячейку."
   ]
  },
  {
   "cell_type": "code",
   "execution_count": 167,
   "metadata": {},
   "outputs": [],
   "source": [
    "rfm = rfm.assign(RFM = rfm.R * 100 + rfm.F * 10 + rfm.M)"
   ]
  },
  {
   "cell_type": "code",
   "execution_count": 168,
   "metadata": {},
   "outputs": [
    {
     "data": {
      "text/html": [
       "<div>\n",
       "<style scoped>\n",
       "    .dataframe tbody tr th:only-of-type {\n",
       "        vertical-align: middle;\n",
       "    }\n",
       "\n",
       "    .dataframe tbody tr th {\n",
       "        vertical-align: top;\n",
       "    }\n",
       "\n",
       "    .dataframe thead th {\n",
       "        text-align: right;\n",
       "    }\n",
       "</style>\n",
       "<table border=\"1\" class=\"dataframe\">\n",
       "  <thead>\n",
       "    <tr style=\"text-align: right;\">\n",
       "      <th></th>\n",
       "      <th>UserID</th>\n",
       "      <th>R</th>\n",
       "      <th>M</th>\n",
       "      <th>F</th>\n",
       "      <th>RFM</th>\n",
       "    </tr>\n",
       "  </thead>\n",
       "  <tbody>\n",
       "    <tr>\n",
       "      <th>359475</th>\n",
       "      <td>10704570005919383047</td>\n",
       "      <td>3</td>\n",
       "      <td>3</td>\n",
       "      <td>3</td>\n",
       "      <td>333</td>\n",
       "    </tr>\n",
       "    <tr>\n",
       "      <th>116830</th>\n",
       "      <td>3459934524673652148</td>\n",
       "      <td>3</td>\n",
       "      <td>3</td>\n",
       "      <td>3</td>\n",
       "      <td>333</td>\n",
       "    </tr>\n",
       "    <tr>\n",
       "      <th>116859</th>\n",
       "      <td>3460978299725389469</td>\n",
       "      <td>3</td>\n",
       "      <td>3</td>\n",
       "      <td>3</td>\n",
       "      <td>333</td>\n",
       "    </tr>\n",
       "    <tr>\n",
       "      <th>602236</th>\n",
       "      <td>15914960830994678801</td>\n",
       "      <td>3</td>\n",
       "      <td>3</td>\n",
       "      <td>3</td>\n",
       "      <td>333</td>\n",
       "    </tr>\n",
       "    <tr>\n",
       "      <th>697138</th>\n",
       "      <td>17948624464620080889</td>\n",
       "      <td>3</td>\n",
       "      <td>3</td>\n",
       "      <td>3</td>\n",
       "      <td>333</td>\n",
       "    </tr>\n",
       "    <tr>\n",
       "      <th>...</th>\n",
       "      <td>...</td>\n",
       "      <td>...</td>\n",
       "      <td>...</td>\n",
       "      <td>...</td>\n",
       "      <td>...</td>\n",
       "    </tr>\n",
       "    <tr>\n",
       "      <th>74393</th>\n",
       "      <td>2140535320606434197</td>\n",
       "      <td>1</td>\n",
       "      <td>1</td>\n",
       "      <td>1</td>\n",
       "      <td>111</td>\n",
       "    </tr>\n",
       "    <tr>\n",
       "      <th>508800</th>\n",
       "      <td>13861068737722211546</td>\n",
       "      <td>1</td>\n",
       "      <td>1</td>\n",
       "      <td>1</td>\n",
       "      <td>111</td>\n",
       "    </tr>\n",
       "    <tr>\n",
       "      <th>208801</th>\n",
       "      <td>6557669225612571818</td>\n",
       "      <td>1</td>\n",
       "      <td>1</td>\n",
       "      <td>1</td>\n",
       "      <td>111</td>\n",
       "    </tr>\n",
       "    <tr>\n",
       "      <th>508811</th>\n",
       "      <td>13861274725696009967</td>\n",
       "      <td>1</td>\n",
       "      <td>1</td>\n",
       "      <td>1</td>\n",
       "      <td>111</td>\n",
       "    </tr>\n",
       "    <tr>\n",
       "      <th>366401</th>\n",
       "      <td>10858302321905703867</td>\n",
       "      <td>1</td>\n",
       "      <td>1</td>\n",
       "      <td>1</td>\n",
       "      <td>111</td>\n",
       "    </tr>\n",
       "  </tbody>\n",
       "</table>\n",
       "<p>718950 rows × 5 columns</p>\n",
       "</div>"
      ],
      "text/plain": [
       "                      UserID  R  M  F  RFM\n",
       "359475  10704570005919383047  3  3  3  333\n",
       "116830   3459934524673652148  3  3  3  333\n",
       "116859   3460978299725389469  3  3  3  333\n",
       "602236  15914960830994678801  3  3  3  333\n",
       "697138  17948624464620080889  3  3  3  333\n",
       "...                      ... .. .. ..  ...\n",
       "74393    2140535320606434197  1  1  1  111\n",
       "508800  13861068737722211546  1  1  1  111\n",
       "208801   6557669225612571818  1  1  1  111\n",
       "508811  13861274725696009967  1  1  1  111\n",
       "366401  10858302321905703867  1  1  1  111\n",
       "\n",
       "[718950 rows x 5 columns]"
      ]
     },
     "execution_count": 168,
     "metadata": {},
     "output_type": "execute_result"
    }
   ],
   "source": [
    "rfm.sort_values('RFM', ascending=False)"
   ]
  },
  {
   "cell_type": "code",
   "execution_count": 175,
   "metadata": {},
   "outputs": [
    {
     "data": {
      "text/plain": [
       "212    0.141580\n",
       "211    0.120449\n",
       "112    0.115000\n",
       "111    0.096443\n",
       "213    0.078445\n",
       "113    0.062629\n",
       "312    0.053089\n",
       "223    0.046882\n",
       "311    0.044536\n",
       "222    0.039238\n",
       "333    0.037694\n",
       "323    0.030617\n",
       "233    0.029583\n",
       "313    0.029193\n",
       "322    0.025519\n",
       "332    0.010780\n",
       "232    0.009688\n",
       "123    0.008824\n",
       "122    0.007448\n",
       "221    0.006113\n",
       "321    0.003867\n",
       "121    0.001099\n",
       "133    0.000686\n",
       "132    0.000246\n",
       "231    0.000174\n",
       "331    0.000172\n",
       "131    0.000007\n",
       "Name: RFM, dtype: float64"
      ]
     },
     "execution_count": 175,
     "metadata": {},
     "output_type": "execute_result"
    }
   ],
   "source": [
    "rfm.RFM.value_counts(normalize=True)"
   ]
  }
 ],
 "metadata": {
  "kernelspec": {
   "display_name": "Python 3",
   "language": "python",
   "name": "python3"
  },
  "language_info": {
   "codemirror_mode": {
    "name": "ipython",
    "version": 3
   },
   "file_extension": ".py",
   "mimetype": "text/x-python",
   "name": "python",
   "nbconvert_exporter": "python",
   "pygments_lexer": "ipython3",
   "version": "3.8.3"
  }
 },
 "nbformat": 4,
 "nbformat_minor": 2
}
