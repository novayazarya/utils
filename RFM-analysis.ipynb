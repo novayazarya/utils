{
 "cells": [
  {
   "cell_type": "markdown",
   "metadata": {},
   "source": [
    "# RFM-анализ"
   ]
  },
  {
   "cell_type": "code",
   "execution_count": 14,
   "metadata": {},
   "outputs": [],
   "source": [
    "import pandahouse as ph\n",
    "import pandas as pd"
   ]
  },
  {
   "cell_type": "markdown",
   "metadata": {},
   "source": [
    "Нужно написать функцию, которая будет отправлять текст SQL-запроса, в нашем случае - запроса к ClickHouse, на сервер, а по выполнении запроса забирать его результаты в каком-то виде."
   ]
  },
  {
   "cell_type": "code",
   "execution_count": 9,
   "metadata": {},
   "outputs": [],
   "source": [
    "connection = {'host': 'http://clickhouse.beslan.pro:8080/',\n",
    "                      #'database':'test',\n",
    "                      'user':'student', \n",
    "                      'password':'dpo_python_2020'\n",
    "                     }"
   ]
  },
  {
   "cell_type": "markdown",
   "metadata": {},
   "source": [
    "RFM-анализ, в основе которого лежат поведенческие факторы групп или сегментов клиентов. Данный метод анализа позволяет изучить поведение пользователей и то, как они совершают платежи. В результате вы получите ценные инсайты по построению директ-маркетинга для вашей компании.​ Также RFM-сегментация поможет вам применять в коммуникациях особый подход к каждой группе клиентов.\n",
    "\n",
    "## Что такое RFM-анализ и зачем он нужен маркетологу\n",
    "RFM-анализ — метод анализа, позволяющий сегментировать клиентов по частоте и сумме покупок и выявлять тех, которые приносят больше денег.\n",
    "\n",
    "Аббревиатура RFM расшифровывается:\n",
    "\n",
    "- Recency — давность (как давно ваши клиенты что-то у вас покупали);\n",
    "- Frequency — частота (как часто они у вас покупают);\n",
    "- Monetary — деньги (общая сумма покупок).\n",
    "\n",
    "По этим признакам можно разделить всех ваших клиентов на группы, понять, кто покупает у вас часто и много, кто — часто, но мало, а кто вообще давно ничего не покупал.\n",
    "\n",
    "Как правило, небольшой процент пользователей реагирует на общие рекламные предложения. RFM-анализ и RFM-сегментация являются отличным методом прогнозирования реакции клиента и улучшения взаимодействия, а также повышение прибыли. RFM использует поведение покупателей, чтобы определить, как работать с каждой группой клиентов. \n",
    "\n",
    "Суть RFM-анализа в том, что мы разделяем всех клиентов на группы, в зависимости от того, как давно они сделали последнюю покупку, как часто покупали и насколько большой была сумма их заказов. По каждому из этих признаков мы выделяем по три равные группы. Затем присваиваем каждой группе числовое обозначение от 1 до 3.\n",
    "\n",
    "**По давности заказа:**\n",
    "\n",
    "- 1 — давние клиенты;\n",
    "- 2 — относительно недавние клиенты;\n",
    "- 3 — недавние клиенты.\n",
    "\n",
    "**По частоте покупок:**\n",
    "\n",
    "- 1 — покупает очень редко (единичные заказы);​\n",
    "- 2 — покупает нечасто;\n",
    "- 3 — покупает часто.\n",
    "\n",
    "**По сумме покупок:**\n",
    "\n",
    "- 1 — маленькая сумма покупок;\n",
    "- 2 — средняя сумма покупок;\n",
    "- 3 — большая сумма покупок.\n",
    "\n",
    "Например, клиент «111» покупал давно, один раз и на маленькую сумму. Или клиент «333»: покупает часто, на большую сумму и последняя покупка была недавно. Это ваши лучшие клиенты."
   ]
  },
  {
   "cell_type": "code",
   "execution_count": 248,
   "metadata": {},
   "outputs": [],
   "source": [
    "# Запрос к БД в ClickHouse\n",
    "query = \"\"\"\n",
    "  SELECT UserID, COUNT(UserID) AS purchases, SUM(Rub) AS revenue, MAX(BuyDate) AS date\n",
    "  FROM checks\n",
    "  WHERE BuyDate > '2018-12-31' AND Rub > 0\n",
    "  GROUP BY UserID\n",
    "  LIMIT 1000000\n",
    "\"\"\"\n",
    "df = ph.read_clickhouse(query=query, connection=connection)"
   ]
  },
  {
   "cell_type": "code",
   "execution_count": 249,
   "metadata": {},
   "outputs": [
    {
     "name": "stdout",
     "output_type": "stream",
     "text": [
      "<class 'pandas.core.frame.DataFrame'>\n",
      "RangeIndex: 1000000 entries, 0 to 999999\n",
      "Data columns (total 4 columns):\n",
      " #   Column     Non-Null Count    Dtype \n",
      "---  ------     --------------    ----- \n",
      " 0   UserID     1000000 non-null  uint64\n",
      " 1   purchases  1000000 non-null  uint64\n",
      " 2   revenue    1000000 non-null  uint64\n",
      " 3   date       1000000 non-null  object\n",
      "dtypes: object(1), uint64(3)\n",
      "memory usage: 30.5+ MB\n"
     ]
    }
   ],
   "source": [
    "df.info()"
   ]
  },
  {
   "cell_type": "code",
   "execution_count": 250,
   "metadata": {},
   "outputs": [
    {
     "data": {
      "text/html": [
       "<div>\n",
       "<style scoped>\n",
       "    .dataframe tbody tr th:only-of-type {\n",
       "        vertical-align: middle;\n",
       "    }\n",
       "\n",
       "    .dataframe tbody tr th {\n",
       "        vertical-align: top;\n",
       "    }\n",
       "\n",
       "    .dataframe thead th {\n",
       "        text-align: right;\n",
       "    }\n",
       "</style>\n",
       "<table border=\"1\" class=\"dataframe\">\n",
       "  <thead>\n",
       "    <tr style=\"text-align: right;\">\n",
       "      <th></th>\n",
       "      <th>UserID</th>\n",
       "      <th>purchases</th>\n",
       "      <th>revenue</th>\n",
       "      <th>date</th>\n",
       "    </tr>\n",
       "  </thead>\n",
       "  <tbody>\n",
       "    <tr>\n",
       "      <th>0</th>\n",
       "      <td>16308669351351992594</td>\n",
       "      <td>1</td>\n",
       "      <td>7</td>\n",
       "      <td>2019-01-19</td>\n",
       "    </tr>\n",
       "    <tr>\n",
       "      <th>1</th>\n",
       "      <td>17633373436558009457</td>\n",
       "      <td>36</td>\n",
       "      <td>205</td>\n",
       "      <td>2019-06-14</td>\n",
       "    </tr>\n",
       "    <tr>\n",
       "      <th>2</th>\n",
       "      <td>1427202562713834276</td>\n",
       "      <td>5</td>\n",
       "      <td>95</td>\n",
       "      <td>2019-02-08</td>\n",
       "    </tr>\n",
       "    <tr>\n",
       "      <th>3</th>\n",
       "      <td>13579452322145411620</td>\n",
       "      <td>1</td>\n",
       "      <td>42</td>\n",
       "      <td>2019-05-14</td>\n",
       "    </tr>\n",
       "    <tr>\n",
       "      <th>4</th>\n",
       "      <td>8674668169880158265</td>\n",
       "      <td>1</td>\n",
       "      <td>2</td>\n",
       "      <td>2019-01-03</td>\n",
       "    </tr>\n",
       "  </tbody>\n",
       "</table>\n",
       "</div>"
      ],
      "text/plain": [
       "                 UserID  purchases  revenue        date\n",
       "0  16308669351351992594          1        7  2019-01-19\n",
       "1  17633373436558009457         36      205  2019-06-14\n",
       "2   1427202562713834276          5       95  2019-02-08\n",
       "3  13579452322145411620          1       42  2019-05-14\n",
       "4   8674668169880158265          1        2  2019-01-03"
      ]
     },
     "execution_count": 250,
     "metadata": {},
     "output_type": "execute_result"
    }
   ],
   "source": [
    "df.head()"
   ]
  },
  {
   "cell_type": "code",
   "execution_count": 251,
   "metadata": {},
   "outputs": [],
   "source": [
    "df.date = pd.to_datetime(df.date)"
   ]
  },
  {
   "cell_type": "code",
   "execution_count": 244,
   "metadata": {},
   "outputs": [
    {
     "data": {
      "text/plain": [
       "1000000"
      ]
     },
     "execution_count": 244,
     "metadata": {},
     "output_type": "execute_result"
    }
   ],
   "source": [
    "df.UserID.nunique()"
   ]
  },
  {
   "cell_type": "markdown",
   "metadata": {},
   "source": [
    "- определить последнюю дату покупки каждого клиента\n",
    "- посчитать сколько раз заказывал каждый клиент\n",
    "- общую сумму по каждому клиенту"
   ]
  },
  {
   "cell_type": "code",
   "execution_count": 161,
   "metadata": {},
   "outputs": [],
   "source": [
    "rfm = df.assign(Count=1).groupby('UserID') \\\n",
    "              .agg({'BuyDate': max, 'Rub': sum, 'Count': sum}).reset_index()"
   ]
  },
  {
   "cell_type": "markdown",
   "metadata": {},
   "source": [
    "С помощью формулы `TODAY()` - дата последней покупки мы рассчитываем какое количество дней назад были совершены последние покупки. Это и будут данные по нашей R(Recency) "
   ]
  },
  {
   "cell_type": "code",
   "execution_count": 252,
   "metadata": {},
   "outputs": [],
   "source": [
    "today = pd.Timestamp('2020') # возьмем начало 2020 для точки отсчета, а не pd.Timestamp.today()\n",
    "df['days_from_now'] = (today - df['date']).dt.days"
   ]
  },
  {
   "cell_type": "code",
   "execution_count": 253,
   "metadata": {},
   "outputs": [
    {
     "data": {
      "text/html": [
       "<div>\n",
       "<style scoped>\n",
       "    .dataframe tbody tr th:only-of-type {\n",
       "        vertical-align: middle;\n",
       "    }\n",
       "\n",
       "    .dataframe tbody tr th {\n",
       "        vertical-align: top;\n",
       "    }\n",
       "\n",
       "    .dataframe thead th {\n",
       "        text-align: right;\n",
       "    }\n",
       "</style>\n",
       "<table border=\"1\" class=\"dataframe\">\n",
       "  <thead>\n",
       "    <tr style=\"text-align: right;\">\n",
       "      <th></th>\n",
       "      <th>UserID</th>\n",
       "      <th>purchases</th>\n",
       "      <th>revenue</th>\n",
       "      <th>date</th>\n",
       "      <th>days_from_now</th>\n",
       "    </tr>\n",
       "  </thead>\n",
       "  <tbody>\n",
       "    <tr>\n",
       "      <th>0</th>\n",
       "      <td>16308669351351992594</td>\n",
       "      <td>1</td>\n",
       "      <td>7</td>\n",
       "      <td>2019-01-19</td>\n",
       "      <td>347</td>\n",
       "    </tr>\n",
       "    <tr>\n",
       "      <th>1</th>\n",
       "      <td>17633373436558009457</td>\n",
       "      <td>36</td>\n",
       "      <td>205</td>\n",
       "      <td>2019-06-14</td>\n",
       "      <td>201</td>\n",
       "    </tr>\n",
       "    <tr>\n",
       "      <th>2</th>\n",
       "      <td>1427202562713834276</td>\n",
       "      <td>5</td>\n",
       "      <td>95</td>\n",
       "      <td>2019-02-08</td>\n",
       "      <td>327</td>\n",
       "    </tr>\n",
       "    <tr>\n",
       "      <th>3</th>\n",
       "      <td>13579452322145411620</td>\n",
       "      <td>1</td>\n",
       "      <td>42</td>\n",
       "      <td>2019-05-14</td>\n",
       "      <td>232</td>\n",
       "    </tr>\n",
       "    <tr>\n",
       "      <th>4</th>\n",
       "      <td>8674668169880158265</td>\n",
       "      <td>1</td>\n",
       "      <td>2</td>\n",
       "      <td>2019-01-03</td>\n",
       "      <td>363</td>\n",
       "    </tr>\n",
       "    <tr>\n",
       "      <th>...</th>\n",
       "      <td>...</td>\n",
       "      <td>...</td>\n",
       "      <td>...</td>\n",
       "      <td>...</td>\n",
       "      <td>...</td>\n",
       "    </tr>\n",
       "    <tr>\n",
       "      <th>999995</th>\n",
       "      <td>16172966979666432099</td>\n",
       "      <td>2</td>\n",
       "      <td>5</td>\n",
       "      <td>2019-04-28</td>\n",
       "      <td>248</td>\n",
       "    </tr>\n",
       "    <tr>\n",
       "      <th>999996</th>\n",
       "      <td>1071803333472938398</td>\n",
       "      <td>1</td>\n",
       "      <td>29</td>\n",
       "      <td>2019-03-15</td>\n",
       "      <td>292</td>\n",
       "    </tr>\n",
       "    <tr>\n",
       "      <th>999997</th>\n",
       "      <td>13640354622859418165</td>\n",
       "      <td>1</td>\n",
       "      <td>4</td>\n",
       "      <td>2019-08-28</td>\n",
       "      <td>126</td>\n",
       "    </tr>\n",
       "    <tr>\n",
       "      <th>999998</th>\n",
       "      <td>960080279955027453</td>\n",
       "      <td>5</td>\n",
       "      <td>41</td>\n",
       "      <td>2019-03-28</td>\n",
       "      <td>279</td>\n",
       "    </tr>\n",
       "    <tr>\n",
       "      <th>999999</th>\n",
       "      <td>5468721837307361910</td>\n",
       "      <td>1</td>\n",
       "      <td>13</td>\n",
       "      <td>2019-01-11</td>\n",
       "      <td>355</td>\n",
       "    </tr>\n",
       "  </tbody>\n",
       "</table>\n",
       "<p>1000000 rows × 5 columns</p>\n",
       "</div>"
      ],
      "text/plain": [
       "                      UserID  purchases  revenue       date  days_from_now\n",
       "0       16308669351351992594          1        7 2019-01-19            347\n",
       "1       17633373436558009457         36      205 2019-06-14            201\n",
       "2        1427202562713834276          5       95 2019-02-08            327\n",
       "3       13579452322145411620          1       42 2019-05-14            232\n",
       "4        8674668169880158265          1        2 2019-01-03            363\n",
       "...                      ...        ...      ...        ...            ...\n",
       "999995  16172966979666432099          2        5 2019-04-28            248\n",
       "999996   1071803333472938398          1       29 2019-03-15            292\n",
       "999997  13640354622859418165          1        4 2019-08-28            126\n",
       "999998    960080279955027453          5       41 2019-03-28            279\n",
       "999999   5468721837307361910          1       13 2019-01-11            355\n",
       "\n",
       "[1000000 rows x 5 columns]"
      ]
     },
     "execution_count": 253,
     "metadata": {},
     "output_type": "execute_result"
    }
   ],
   "source": [
    "df"
   ]
  },
  {
   "cell_type": "code",
   "execution_count": 254,
   "metadata": {},
   "outputs": [],
   "source": [
    "# rfm.rename(columns={'BuyDate': 'R', 'Count': 'F', 'Rub': 'M'}, inplace=True)"
   ]
  },
  {
   "cell_type": "markdown",
   "metadata": {},
   "source": [
    "У нас есть все данные по Recency, Frequency (количество заказов) и Monetary (сумма). Сейчас мы будем присваивать значения от 1 до 3 (о чем мы уже говорили чуть выше) в соответствии с этими данными.\n",
    "\n",
    "Начнем со значений для Recency. Первое, что нам нужно, это рассчитать как давно у нас покупали 33% и 66% клиентов."
   ]
  },
  {
   "cell_type": "code",
   "execution_count": 258,
   "metadata": {},
   "outputs": [
    {
     "data": {
      "text/plain": [
       "0.33    145.0\n",
       "0.66    264.0\n",
       "Name: days_from_now, dtype: float64"
      ]
     },
     "execution_count": 258,
     "metadata": {},
     "output_type": "execute_result"
    }
   ],
   "source": [
    "df['days_from_now'].quantile([.33, .66])"
   ]
  },
  {
   "cell_type": "markdown",
   "metadata": {},
   "source": [
    "Теперь мы знаем, что 33% клиентов покупали наши товары менее 145 дней назад, а 66% — более 264 дней назад.\n",
    "\n",
    "Соответственно, тем клиентам, кто покупал менее, чем 145 дней назад мы присваиваем наивысшее значение - 3. Тем, кто делал заказ от 145 до 264 дней назад - 2. И остальным, кто покупал более чем 228 дня назад мы присваиваем значение 1. \n",
    "\n",
    "Мы можем и нарезать квантили `pd.qcut(df['days_from_now'], q=3, labels=range(3, 0, -1))`"
   ]
  },
  {
   "cell_type": "code",
   "execution_count": 259,
   "metadata": {},
   "outputs": [],
   "source": [
    "df['R'] = pd.qcut(df['days_from_now'], 3, labels=range(3, 0, -1))"
   ]
  },
  {
   "cell_type": "markdown",
   "metadata": {},
   "source": [
    "По такому же принципу просчитываем значения для F(Frequency) и M(Mmonetary): сначала вычисляем сколько раз покупали 33% и 66% клиентов и по результатам проставляем значения от 1 до 3."
   ]
  },
  {
   "cell_type": "code",
   "execution_count": 260,
   "metadata": {},
   "outputs": [
    {
     "data": {
      "text/plain": [
       "0.33    2.0\n",
       "0.66    6.0\n",
       "Name: purchases, dtype: float64"
      ]
     },
     "execution_count": 260,
     "metadata": {},
     "output_type": "execute_result"
    }
   ],
   "source": [
    "df['purchases'].quantile([.33, .66]) # видим что большая часть пользователей совершила только одну покупку"
   ]
  },
  {
   "cell_type": "code",
   "execution_count": 262,
   "metadata": {},
   "outputs": [],
   "source": [
    "df['F'] = pd.qcut(df['purchases'], 3, labels=range(1, 4))"
   ]
  },
  {
   "cell_type": "code",
   "execution_count": 263,
   "metadata": {},
   "outputs": [
    {
     "data": {
      "text/plain": [
       "0.33    11.0\n",
       "0.66    56.0\n",
       "Name: revenue, dtype: float64"
      ]
     },
     "execution_count": 263,
     "metadata": {},
     "output_type": "execute_result"
    }
   ],
   "source": [
    "df['revenue'].quantile([.33, .66])"
   ]
  },
  {
   "cell_type": "code",
   "execution_count": 265,
   "metadata": {},
   "outputs": [],
   "source": [
    "df['M'] = pd.qcut(df['revenue'], 3, labels=range(1, 4))"
   ]
  },
  {
   "cell_type": "markdown",
   "metadata": {},
   "source": [
    "И для большей наглядности нам осталось просчитать общее значение RFM, объединив все 3 значения по каждому клиенту в одну ячейку."
   ]
  },
  {
   "cell_type": "code",
   "execution_count": 267,
   "metadata": {},
   "outputs": [],
   "source": [
    "df = df.assign(RFM = df.R.astype(int) * 100 + df.F.astype(int) * 10 + df.M.astype(int))"
   ]
  },
  {
   "cell_type": "code",
   "execution_count": 268,
   "metadata": {},
   "outputs": [
    {
     "data": {
      "text/html": [
       "<div>\n",
       "<style scoped>\n",
       "    .dataframe tbody tr th:only-of-type {\n",
       "        vertical-align: middle;\n",
       "    }\n",
       "\n",
       "    .dataframe tbody tr th {\n",
       "        vertical-align: top;\n",
       "    }\n",
       "\n",
       "    .dataframe thead th {\n",
       "        text-align: right;\n",
       "    }\n",
       "</style>\n",
       "<table border=\"1\" class=\"dataframe\">\n",
       "  <thead>\n",
       "    <tr style=\"text-align: right;\">\n",
       "      <th></th>\n",
       "      <th>UserID</th>\n",
       "      <th>purchases</th>\n",
       "      <th>revenue</th>\n",
       "      <th>date</th>\n",
       "      <th>days_from_now</th>\n",
       "      <th>R</th>\n",
       "      <th>F</th>\n",
       "      <th>M</th>\n",
       "      <th>RFM</th>\n",
       "    </tr>\n",
       "  </thead>\n",
       "  <tbody>\n",
       "    <tr>\n",
       "      <th>313159</th>\n",
       "      <td>17844354228194254352</td>\n",
       "      <td>19</td>\n",
       "      <td>291</td>\n",
       "      <td>2019-09-27</td>\n",
       "      <td>96</td>\n",
       "      <td>3</td>\n",
       "      <td>3</td>\n",
       "      <td>3</td>\n",
       "      <td>333</td>\n",
       "    </tr>\n",
       "    <tr>\n",
       "      <th>221226</th>\n",
       "      <td>17636435622402544923</td>\n",
       "      <td>47</td>\n",
       "      <td>485</td>\n",
       "      <td>2019-10-01</td>\n",
       "      <td>92</td>\n",
       "      <td>3</td>\n",
       "      <td>3</td>\n",
       "      <td>3</td>\n",
       "      <td>333</td>\n",
       "    </tr>\n",
       "    <tr>\n",
       "      <th>898302</th>\n",
       "      <td>15354927047217705391</td>\n",
       "      <td>25</td>\n",
       "      <td>132</td>\n",
       "      <td>2019-10-02</td>\n",
       "      <td>91</td>\n",
       "      <td>3</td>\n",
       "      <td>3</td>\n",
       "      <td>3</td>\n",
       "      <td>333</td>\n",
       "    </tr>\n",
       "    <tr>\n",
       "      <th>221224</th>\n",
       "      <td>11390861456673215084</td>\n",
       "      <td>14</td>\n",
       "      <td>363</td>\n",
       "      <td>2019-08-16</td>\n",
       "      <td>138</td>\n",
       "      <td>3</td>\n",
       "      <td>3</td>\n",
       "      <td>3</td>\n",
       "      <td>333</td>\n",
       "    </tr>\n",
       "    <tr>\n",
       "      <th>221223</th>\n",
       "      <td>10354043232158919873</td>\n",
       "      <td>86</td>\n",
       "      <td>673</td>\n",
       "      <td>2019-10-01</td>\n",
       "      <td>92</td>\n",
       "      <td>3</td>\n",
       "      <td>3</td>\n",
       "      <td>3</td>\n",
       "      <td>333</td>\n",
       "    </tr>\n",
       "    <tr>\n",
       "      <th>...</th>\n",
       "      <td>...</td>\n",
       "      <td>...</td>\n",
       "      <td>...</td>\n",
       "      <td>...</td>\n",
       "      <td>...</td>\n",
       "      <td>...</td>\n",
       "      <td>...</td>\n",
       "      <td>...</td>\n",
       "      <td>...</td>\n",
       "    </tr>\n",
       "    <tr>\n",
       "      <th>501597</th>\n",
       "      <td>13116789493730361503</td>\n",
       "      <td>2</td>\n",
       "      <td>7</td>\n",
       "      <td>2019-03-02</td>\n",
       "      <td>305</td>\n",
       "      <td>1</td>\n",
       "      <td>1</td>\n",
       "      <td>1</td>\n",
       "      <td>111</td>\n",
       "    </tr>\n",
       "    <tr>\n",
       "      <th>501589</th>\n",
       "      <td>12131658925600271589</td>\n",
       "      <td>1</td>\n",
       "      <td>3</td>\n",
       "      <td>2019-01-01</td>\n",
       "      <td>365</td>\n",
       "      <td>1</td>\n",
       "      <td>1</td>\n",
       "      <td>1</td>\n",
       "      <td>111</td>\n",
       "    </tr>\n",
       "    <tr>\n",
       "      <th>501586</th>\n",
       "      <td>12484624510367253201</td>\n",
       "      <td>1</td>\n",
       "      <td>8</td>\n",
       "      <td>2019-04-09</td>\n",
       "      <td>267</td>\n",
       "      <td>1</td>\n",
       "      <td>1</td>\n",
       "      <td>1</td>\n",
       "      <td>111</td>\n",
       "    </tr>\n",
       "    <tr>\n",
       "      <th>501570</th>\n",
       "      <td>13599290092693786013</td>\n",
       "      <td>1</td>\n",
       "      <td>1</td>\n",
       "      <td>2019-02-17</td>\n",
       "      <td>318</td>\n",
       "      <td>1</td>\n",
       "      <td>1</td>\n",
       "      <td>1</td>\n",
       "      <td>111</td>\n",
       "    </tr>\n",
       "    <tr>\n",
       "      <th>0</th>\n",
       "      <td>16308669351351992594</td>\n",
       "      <td>1</td>\n",
       "      <td>7</td>\n",
       "      <td>2019-01-19</td>\n",
       "      <td>347</td>\n",
       "      <td>1</td>\n",
       "      <td>1</td>\n",
       "      <td>1</td>\n",
       "      <td>111</td>\n",
       "    </tr>\n",
       "  </tbody>\n",
       "</table>\n",
       "<p>1000000 rows × 9 columns</p>\n",
       "</div>"
      ],
      "text/plain": [
       "                      UserID  purchases  revenue       date  days_from_now  R  \\\n",
       "313159  17844354228194254352         19      291 2019-09-27             96  3   \n",
       "221226  17636435622402544923         47      485 2019-10-01             92  3   \n",
       "898302  15354927047217705391         25      132 2019-10-02             91  3   \n",
       "221224  11390861456673215084         14      363 2019-08-16            138  3   \n",
       "221223  10354043232158919873         86      673 2019-10-01             92  3   \n",
       "...                      ...        ...      ...        ...            ... ..   \n",
       "501597  13116789493730361503          2        7 2019-03-02            305  1   \n",
       "501589  12131658925600271589          1        3 2019-01-01            365  1   \n",
       "501586  12484624510367253201          1        8 2019-04-09            267  1   \n",
       "501570  13599290092693786013          1        1 2019-02-17            318  1   \n",
       "0       16308669351351992594          1        7 2019-01-19            347  1   \n",
       "\n",
       "        F  M  RFM  \n",
       "313159  3  3  333  \n",
       "221226  3  3  333  \n",
       "898302  3  3  333  \n",
       "221224  3  3  333  \n",
       "221223  3  3  333  \n",
       "...    .. ..  ...  \n",
       "501597  1  1  111  \n",
       "501589  1  1  111  \n",
       "501586  1  1  111  \n",
       "501570  1  1  111  \n",
       "0       1  1  111  \n",
       "\n",
       "[1000000 rows x 9 columns]"
      ]
     },
     "execution_count": 268,
     "metadata": {},
     "output_type": "execute_result"
    }
   ],
   "source": [
    "df.sort_values('RFM', ascending=False)"
   ]
  },
  {
   "cell_type": "code",
   "execution_count": 273,
   "metadata": {},
   "outputs": [
    {
     "data": {
      "image/png": "[encoded data removed]",
      "text/plain": [
       "<Figure size 432x288 with 1 Axes>"
      ]
     },
     "metadata": {
      "needs_background": "light"
     },
     "output_type": "display_data"
    }
   ],
   "source": [
    "df.RFM.value_counts(normalize=True).plot(kind='barh');"
   ]
  }
 ],
 "metadata": {
  "kernelspec": {
   "display_name": "Python 3",
   "language": "python",
   "name": "python3"
  },
  "language_info": {
   "codemirror_mode": {
    "name": "ipython",
    "version": 3
   },
   "file_extension": ".py",
   "mimetype": "text/x-python",
   "name": "python",
   "nbconvert_exporter": "python",
   "pygments_lexer": "ipython3",
   "version": "3.8.3"
  }
 },
 "nbformat": 4,
 "nbformat_minor": 2
}
