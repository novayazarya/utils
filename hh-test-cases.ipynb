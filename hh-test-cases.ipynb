{
 "cells": [
  {
   "cell_type": "markdown",
   "metadata": {},
   "source": [
    "# Тестовые задания HH"
   ]
  },
  {
   "cell_type": "markdown",
   "metadata": {},
   "source": [
    "## 1. Медиана\n",
    "Даны два отсортированных числовых массива одинаковой длины N. Найдите медиану числового массива длины 2N, содержащего все числа из двух данных массивов.\n",
    "\n",
    "Пример входных данных: 1 2 3 4, 1 4 5 6\n",
    "\n",
    "Пример выходных данных: 3.5"
   ]
  },
  {
   "cell_type": "code",
   "execution_count": 251,
   "metadata": {},
   "outputs": [],
   "source": [
    "from typing import List\n",
    "a: List[int] = [1, 2, 3, 4]\n",
    "b: List[int] = [1, 4, 5, 6]"
   ]
  },
  {
   "cell_type": "markdown",
   "metadata": {},
   "source": [
    "### Вариант решения №1"
   ]
  },
  {
   "cell_type": "code",
   "execution_count": 248,
   "metadata": {},
   "outputs": [],
   "source": [
    "n = len(a)\n",
    "c = a + b\n",
    "c.sort()\n",
    "\n",
    "assert (c[n] + c[n-1]) / 2 == 3.5"
   ]
  },
  {
   "cell_type": "markdown",
   "metadata": {},
   "source": [
    "### Вариант решения №2\n",
    "\n",
    "Через двоичный поиск, реализованный в модуле `bisect`"
   ]
  },
  {
   "cell_type": "code",
   "execution_count": 9,
   "metadata": {},
   "outputs": [],
   "source": [
    "from bisect import bisect_left"
   ]
  },
  {
   "cell_type": "code",
   "execution_count": 252,
   "metadata": {},
   "outputs": [],
   "source": [
    "for bi in b:\n",
    "    a.insert(bisect_left(a, bi), bi)\n",
    "\n",
    "    assert (a[n] + a[n-1]) / 2 == 3.5"
   ]
  },
  {
   "cell_type": "markdown",
   "metadata": {},
   "source": [
    "## 2. Баланс весов\n",
    "Дана последовательность целых чисел. Считая их массами имеющихся в наличии предметов, определить, можно ли все эти предметы положить на весы так, чтобы весы находились в равновесии. Вывести вариант расположения. Определить, можно ли из них отобрать какое-то количество предметов с суммарным весом 100 (вывести yes или no, в зависимости от результата).\n",
    "\n",
    "Пример входных данных: 2 3 4 5 6\n",
    "\n",
    "Пример выходных данных: 2 3 5 - 4 6\n",
    "\n",
    "no"
   ]
  },
  {
   "cell_type": "code",
   "execution_count": 278,
   "metadata": {},
   "outputs": [
    {
     "name": "stdout",
     "output_type": "stream",
     "text": [
      "2 3 5 - 4 6\n"
     ]
    }
   ],
   "source": [
    "origin: List[int] = [2, 3, 4, 5, 6]\n",
    "left, right = [], []\n",
    "n = len(origin)\n",
    "\n",
    "balance = False\n",
    "for i in range(n):\n",
    "    if (sum_right:=sum(right) + origin[-1]) == (sum_left:= sum(left + origin[:-1])):\n",
    "        right.append(origin.pop())\n",
    "        print(' '.join(map(str, origin + left)), '-', ' '.join(map(str, right[::-1])))\n",
    "        balance = True\n",
    "        break \n",
    "    elif sum_right < sum_left:\n",
    "        right.append(origin.pop())\n",
    "    else:\n",
    "        left.append(origin.pop())"
   ]
  },
  {
   "cell_type": "code",
   "execution_count": 272,
   "metadata": {},
   "outputs": [],
   "source": [
    "def is_100(origin: List[int]) -> str:\n",
    "    sum100 = False\n",
    "    n = len(origin)\n",
    "    for _ in range(n):\n",
    "        for i in range(len(origin)):\n",
    "            if sum(origin) - origin[i] == 100:\n",
    "                sum100 = True          \n",
    "        if not sum100:\n",
    "            k = origin.pop(0)\n",
    "            if sum(origin) < 100:\n",
    "                origin.append(k)\n",
    "        else:\n",
    "            break\n",
    "\n",
    "    return ['no', 'yes'][sum100]"
   ]
  },
  {
   "cell_type": "code",
   "execution_count": 279,
   "metadata": {},
   "outputs": [],
   "source": [
    "origin: List[int] = [2, 3, 4, 5, 6]"
   ]
  },
  {
   "cell_type": "code",
   "execution_count": 280,
   "metadata": {},
   "outputs": [],
   "source": [
    "assert is_100(origin) == 'no'"
   ]
  },
  {
   "cell_type": "code",
   "execution_count": 275,
   "metadata": {},
   "outputs": [],
   "source": [
    "origin_101 = [1, 1, 1, 1, 1, 1, 95]"
   ]
  },
  {
   "cell_type": "code",
   "execution_count": 276,
   "metadata": {},
   "outputs": [],
   "source": [
    "assert is_100(origin_101) == 'yes'"
   ]
  }
 ],
 "metadata": {
  "kernelspec": {
   "display_name": "Python 3",
   "language": "python",
   "name": "python3"
  },
  "language_info": {
   "codemirror_mode": {
    "name": "ipython",
    "version": 3
   },
   "file_extension": ".py",
   "mimetype": "text/x-python",
   "name": "python",
   "nbconvert_exporter": "python",
   "pygments_lexer": "ipython3",
   "version": "3.8.3"
  }
 },
 "nbformat": 4,
 "nbformat_minor": 4
}
