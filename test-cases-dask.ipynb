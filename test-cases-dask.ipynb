{
 "cells": [
  {
   "cell_type": "code",
   "execution_count": 362,
   "metadata": {},
   "outputs": [],
   "source": [
    "import pandas as pd\n",
    "import numpy as np\n",
    "import dask.dataframe as dd\n",
    "import zipfile\n",
    "import os"
   ]
  },
  {
   "cell_type": "markdown",
   "metadata": {},
   "source": [
    "## DASK"
   ]
  },
  {
   "cell_type": "markdown",
   "metadata": {},
   "source": [
    "В accounts.\\*.csv найти `id`, для которого в столбце `amount` встречается наибольшее количество значений между 1000 и 1500. Выполнить задание с помощью Dask, распараллелив процесс обработки данных."
   ]
  },
  {
   "cell_type": "code",
   "execution_count": 364,
   "metadata": {},
   "outputs": [
    {
     "name": "stdout",
     "output_type": "stream",
     "text": [
      "data/accounts.0.csv\n",
      "data/accounts.1.csv\n",
      "data/accounts.2.csv\n",
      "data/accounts.3.csv\n",
      "data/accounts.4.csv\n",
      "data/accounts.5.csv\n",
      "data/\n"
     ]
    }
   ],
   "source": [
    "data_dir = f'{os.path.expanduser(\"~\")}/Downloads/datasets/part_1/'\n",
    "\n",
    "with zipfile.ZipFile(data_dir + 'data.zip') as archive:\n",
    "    print(*archive.namelist(), sep='\\n')\n",
    "    archive.extractall(data_dir, None, None)\n",
    "\n",
    "#parts = [delayed(pd.read_csv)(data_dir + file)\n",
    "#            for file in archive.namelist() if file.endswith('.csv')]\n",
    "#df = dd.from_delayed(parts)\n",
    "df = dd.read_csv(data_dir + 'data/*.csv')"
   ]
  },
  {
   "cell_type": "code",
   "execution_count": 358,
   "metadata": {},
   "outputs": [
    {
     "data": {
      "text/plain": [
       "485"
      ]
     },
     "execution_count": 358,
     "metadata": {},
     "output_type": "execute_result"
    }
   ],
   "source": [
    "df.assign(between = df['amount'].between(1000, 1500, 'neither')) \\\n",
    "            .groupby(['id'])['between'] \\\n",
    "            .sum() \\\n",
    "            .idxmax() \\\n",
    "            .compute()"
   ]
  },
  {
   "cell_type": "markdown",
   "metadata": {},
   "source": [
    "В accounts.\\*.csv найти `id`, для которого в столбце `amount` встречается наибольшее количество значений кратных трем. Выполнить задание с помощью Dask, распараллелив процесс обработки данных."
   ]
  },
  {
   "cell_type": "code",
   "execution_count": 359,
   "metadata": {},
   "outputs": [
    {
     "data": {
      "text/plain": [
       "366"
      ]
     },
     "execution_count": 359,
     "metadata": {},
     "output_type": "execute_result"
    }
   ],
   "source": [
    "df.assign(three = ~df['amount'].apply(lambda x: x%3 and 1, meta=('amount', 'int')).astype(bool)) \\\n",
    "            .groupby(['id'])['three'] \\\n",
    "            .sum() \\\n",
    "            .idxmax() \\\n",
    "            .compute()"
   ]
  },
  {
   "cell_type": "markdown",
   "metadata": {},
   "source": [
    "## Numpy"
   ]
  },
  {
   "cell_type": "markdown",
   "metadata": {},
   "source": [
    "Дан массив A. Построить массив B той же размерности, состоящий из элементов, являющихся суммой минимального элемнета массива A по соответствующей строке и минимального элемента по соответствующему столбцу."
   ]
  },
  {
   "cell_type": "code",
   "execution_count": 205,
   "metadata": {},
   "outputs": [],
   "source": [
    "A = np.array([[ 8,  4, 16,  5,  9],\n",
    "              [ 3, 16, 13,  8, 10],\n",
    "              [ 0,  9, 18, 17,  5],\n",
    "              [16,  2,  6,  0, 10],\n",
    "              [18, 13,  9, 17,  8]])"
   ]
  },
  {
   "cell_type": "code",
   "execution_count": 361,
   "metadata": {},
   "outputs": [
    {
     "name": "stdout",
     "output_type": "stream",
     "text": [
      "[[ 4  6 10  4  9]\n",
      " [ 3  5  9  3  8]\n",
      " [ 0  2  6  0  5]\n",
      " [ 0  2  6  0  5]\n",
      " [ 8 10 14  8 13]]\n"
     ]
    }
   ],
   "source": [
    "ndim = len(A)\n",
    "\n",
    "B = np.tile(A.min(axis=1), (ndim,1)).T + np.tile(A.min(axis=0), (ndim,1))\n",
    "print(B)"
   ]
  },
  {
   "cell_type": "code",
   "execution_count": 347,
   "metadata": {},
   "outputs": [
    {
     "name": "stdout",
     "output_type": "stream",
     "text": [
      "[[ 4  6 10  4  9]\n",
      " [ 3  5  9  3  8]\n",
      " [ 0  2  6  0  5]\n",
      " [ 0  2  6  0  5]\n",
      " [ 8 10 14  8 13]]\n"
     ]
    }
   ],
   "source": [
    "B = np.add.reduce(np.meshgrid(*[A.min(axis=1), A.min(axis=0)])).T\n",
    "print(B)"
   ]
  },
  {
   "cell_type": "markdown",
   "metadata": {},
   "source": [
    "Задать два двухмерных массива размерности 5x15, состоящих из случайных целых чисел в интервале от -5 до 5. Если значение в первом массиве имеет тот же знак, что соответствующее значение во втором, то сложить эти значения."
   ]
  },
  {
   "cell_type": "code",
   "execution_count": 332,
   "metadata": {},
   "outputs": [],
   "source": [
    "A1 = np.random.randint(-5,5,size=(5,15))\n",
    "A2 = np.random.randint(-5,5,size=(5,15))"
   ]
  },
  {
   "cell_type": "code",
   "execution_count": 333,
   "metadata": {},
   "outputs": [
    {
     "name": "stdout",
     "output_type": "stream",
     "text": [
      "[[-1  2  3  1 -4  1  2  1  2 -4  1 -5  2  4  2]\n",
      " [-5  1  3  2  0 -4  2 -2 -4  2  0 -5  3 -4  4]\n",
      " [-2 -4 -3 -1  4  1  2 -3  1  0  1 -3 -5  1  3]\n",
      " [ 2  3 -2  1  3 -5  3 -5  0 -2 -2  2 -5 -5  0]\n",
      " [ 4  0 -4 -5  4  3 -1 -2  2 -1  4  2 -3  3  1]]\n",
      "[[ 0 -4 -5  0 -2 -1  1 -4  0  2  1 -4  4  1  2]\n",
      " [-4  1 -1 -1 -3  1 -3 -5 -5 -2  4  2 -5 -5  0]\n",
      " [ 3  1 -2  2  1  2 -2 -5 -2 -3 -2  2 -3 -2 -1]\n",
      " [-4 -1  2 -1 -2 -3 -1 -2 -1  4  0  4  4 -2  2]\n",
      " [ 3  4  4  4  3 -1 -1  3  4  3 -3  2 -5 -4  0]]\n"
     ]
    }
   ],
   "source": [
    "print(A1); print(A2)"
   ]
  },
  {
   "cell_type": "code",
   "execution_count": 338,
   "metadata": {},
   "outputs": [
    {
     "name": "stdout",
     "output_type": "stream",
     "text": [
      "[[-1  2  3  1 -6  1  3  1  2 -4  2 -9  6  5  4]\n",
      " [-9  2  3  2  0 -4  2 -7 -9  2  0 -5  3 -9  4]\n",
      " [-2 -4 -5 -1  5  3  2 -8  1  0  1 -3 -8  1  3]\n",
      " [ 2  3 -2  1  3 -8  3 -7  0 -2 -2  6 -5 -7  0]\n",
      " [ 7  0 -4 -5  7  3 -2 -2  6 -1  4  4 -8  3  1]]\n"
     ]
    }
   ],
   "source": [
    "print(np.where(np.sign(A1) == np.sign(A2), np.add(A1, A2), A1))"
   ]
  }
 ],
 "metadata": {
  "kernelspec": {
   "display_name": "Python 3",
   "language": "python",
   "name": "python3"
  },
  "language_info": {
   "codemirror_mode": {
    "name": "ipython",
    "version": 3
   },
   "file_extension": ".py",
   "mimetype": "text/x-python",
   "name": "python",
   "nbconvert_exporter": "python",
   "pygments_lexer": "ipython3",
   "version": "3.8.3"
  }
 },
 "nbformat": 4,
 "nbformat_minor": 4
}
